{
 "cells": [
  {
   "cell_type": "markdown",
   "metadata": {},
   "source": [
    "## Pandas Übung 1\n",
    "\n",
    "In diesem Notebook wird ein Datensatz des Deutschen Wetterdienstes geladen und einige elementare Informationen extrahiert."
   ]
  },
  {
   "cell_type": "code",
   "execution_count": 2,
   "metadata": {},
   "outputs": [],
   "source": [
    "import numpy as np\n",
    "import pandas as pd\n",
    "import matplotlib.pyplot as plt"
   ]
  },
  {
   "cell_type": "markdown",
   "metadata": {},
   "source": [
    "Lesen Sie die Daten von der Url in ein DataFrame ein.\n",
    "\n",
    "Hinweise:\n",
    "- nutzen Sie die korrekte Kopfzeile, die Datei enthält noch weitere Zeilen, bevor die eigentlichen Daten beginnen (Tipp: `header=...`)\n",
    "- dabei soll die Spalte Jahr der Index werden (Tipp: `index_col=...`)\n",
    "- bereinigen Sie überflüssige Spalten (2 Spalten enthalten keine sinnvollen Werte). Tipp: `df.drop(...)`\n",
    "\n",
    "Dokumentation zur Pandas-Methode `read_csv`:\n",
    "\n",
    "https://pandas.pydata.org/pandas-docs/stable/reference/api/pandas.read_csv.html\n",
    "\n",
    "Die Daten für diese Aufgabe:\n",
    "\n",
    "https://opendata.dwd.de/climate_environment/CDC/regional_averages_DE/annual/air_temperature_mean/regional_averages_tm_year.txt"
   ]
  },
  {
   "cell_type": "code",
   "execution_count": 15,
   "metadata": {},
   "outputs": [],
   "source": [
    "file_url = \"https://opendata.dwd.de/climate_environment/CDC/regional_averages_DE/annual/air_temperature_mean/regional_averages_tm_year.txt\"\n",
    "\n",
    "df = pd.read_csv(...)"
   ]
  },
  {
   "cell_type": "markdown",
   "metadata": {},
   "source": [
    "Geben Sie alle Spaltennamen aus"
   ]
  },
  {
   "cell_type": "code",
   "execution_count": null,
   "metadata": {},
   "outputs": [],
   "source": []
  },
  {
   "cell_type": "markdown",
   "metadata": {},
   "source": [
    "Geben Sie eine deskriptive Statistik aus."
   ]
  },
  {
   "cell_type": "code",
   "execution_count": null,
   "metadata": {},
   "outputs": [],
   "source": []
  },
  {
   "cell_type": "markdown",
   "metadata": {},
   "source": [
    "Wählen Sie alle Zeilen aus, in denen der Jahresdurchschnitt in Bayern unter 7 Grad war."
   ]
  },
  {
   "cell_type": "code",
   "execution_count": null,
   "metadata": {},
   "outputs": [],
   "source": []
  },
  {
   "cell_type": "markdown",
   "metadata": {},
   "source": [
    "Welches Bundesland war laut diesen Daten insgesamt das wärmste im Durchschnitt (nicht ablesen, sondern mit Pandas berechnen)? Welches das kälteste? Tipp: Boolsche Indizierung oder `idxmax`."
   ]
  },
  {
   "cell_type": "code",
   "execution_count": null,
   "metadata": {},
   "outputs": [],
   "source": []
  },
  {
   "cell_type": "markdown",
   "metadata": {},
   "source": [
    "Plotten Sie die Werte der Spalte \"Deutschland\" als Linienplot:"
   ]
  },
  {
   "cell_type": "code",
   "execution_count": null,
   "metadata": {},
   "outputs": [],
   "source": []
  },
  {
   "cell_type": "markdown",
   "metadata": {},
   "source": [
    "Plotten Sie die Kurven für Bayern und Schleswig-Holstein in ein Diagramm."
   ]
  },
  {
   "cell_type": "code",
   "execution_count": null,
   "metadata": {},
   "outputs": [],
   "source": []
  },
  {
   "cell_type": "markdown",
   "metadata": {},
   "source": [
    "Fügen Sie dem DataFrame eine neue Spalte hinzu - diese soll den über 30 Jahre gemittelten deutschlandweiten Temperaturwert enthalten, also den gleitenden Durchschnitt (Tipp: `rolling`, `mean`)."
   ]
  },
  {
   "cell_type": "code",
   "execution_count": null,
   "metadata": {},
   "outputs": [],
   "source": []
  },
  {
   "cell_type": "markdown",
   "metadata": {},
   "source": [
    "Plotten Sie die Spalte 'Deutschland' und den gleitenden Durchschnitt gemeinsam."
   ]
  },
  {
   "cell_type": "code",
   "execution_count": null,
   "metadata": {},
   "outputs": [],
   "source": []
  },
  {
   "cell_type": "markdown",
   "metadata": {},
   "source": [
    "Erzeugen Sie ein DataFrame, in welchem die Zeilen nach den Durchschnittstemperaturen in Bayern sortiert sind (Tipp: `sort_values`, `by`)"
   ]
  },
  {
   "cell_type": "code",
   "execution_count": null,
   "metadata": {},
   "outputs": [],
   "source": []
  },
  {
   "cell_type": "markdown",
   "metadata": {},
   "source": [
    "Was war der niedrigste und höchste Jahresdurchschitt in Baden-Württemberg? In welchen Jahren sind diese aufgetreten? (Tipp: `max`, `idxmax`)"
   ]
  },
  {
   "cell_type": "code",
   "execution_count": null,
   "metadata": {},
   "outputs": [],
   "source": []
  },
  {
   "cell_type": "markdown",
   "metadata": {},
   "source": [
    "Geben Sie den höchsten und niedrigsten Durchschnittswert und das Jahr des Auftretens für alle Spalten aus."
   ]
  },
  {
   "cell_type": "code",
   "execution_count": null,
   "metadata": {},
   "outputs": [],
   "source": []
  },
  {
   "cell_type": "markdown",
   "metadata": {},
   "source": [
    "Erzeugen Sie 2 neue DataFrames - eines mit allen Zeilen vor 1970, ein weiteres mit allen Zeilen nach 1970 inklusive."
   ]
  },
  {
   "cell_type": "code",
   "execution_count": null,
   "metadata": {},
   "outputs": [],
   "source": []
  },
  {
   "cell_type": "markdown",
   "metadata": {},
   "source": [
    "Plotten Sie die Histogramme beider DataFrames übereinander."
   ]
  },
  {
   "cell_type": "code",
   "execution_count": null,
   "metadata": {},
   "outputs": [],
   "source": []
  },
  {
   "cell_type": "markdown",
   "metadata": {},
   "source": [
    "## Bonus 1: Heatmap mit seaborn\n",
    "\n",
    "Die Bibliothek seaborn (https://seaborn.pydata.org/) bietet eine Reihe weiterer Plots an - außerdem arbeitet Seaborn direkt mit Pandas zusammen. Erzeugen Sie eine Heatmap, nutzen Sie dabei das Farbschema _hot_ (`cmap`)!"
   ]
  },
  {
   "cell_type": "code",
   "execution_count": null,
   "metadata": {},
   "outputs": [],
   "source": [
    "import seaborn as sns\n",
    "\n",
    "# sns..."
   ]
  },
  {
   "cell_type": "code",
   "execution_count": null,
   "metadata": {},
   "outputs": [],
   "source": []
  }
 ],
 "metadata": {
  "kernelspec": {
   "display_name": "Python 3",
   "language": "python",
   "name": "python3"
  },
  "language_info": {
   "codemirror_mode": {
    "name": "ipython",
    "version": 3
   },
   "file_extension": ".py",
   "mimetype": "text/x-python",
   "name": "python",
   "nbconvert_exporter": "python",
   "pygments_lexer": "ipython3",
   "version": "3.7.6"
  }
 },
 "nbformat": 4,
 "nbformat_minor": 2
}
