{
 "cells": [
  {
   "cell_type": "markdown",
   "metadata": {},
   "source": [
    "# Pandas\n",
    "\n",
    "Pandas ist eine im Moment sehr beliebte Library zur Datenanalyse in Python - während NumPy eher als _low-level_ Library gilt, erlaubt Pandas das Bearbeiten von Daten auf einer höheren Abstraktionsebene. Wichtigste Datenstruktur ist dabei das _DataFrame_, welches tabellarische Daten verwaltet. Die Daten selbst werden von Pandas meist in Numpy-Arrays gespeichert.\n",
    "\n",
    "Importieren wir zunächst pandas:"
   ]
  },
  {
   "cell_type": "code",
   "execution_count": null,
   "metadata": {},
   "outputs": [],
   "source": [
    "import numpy as np\n",
    "import pandas as pd\n",
    "import matplotlib.pyplot as plt"
   ]
  },
  {
   "cell_type": "markdown",
   "metadata": {},
   "source": [
    "## DataFrames\n",
    "\n",
    "\n",
    "Erzeugen wir zunächst ein `DataFrame`-Objekt, eine einfache Tabelle:"
   ]
  },
  {
   "cell_type": "code",
   "execution_count": null,
   "metadata": {},
   "outputs": [],
   "source": [
    "df = pd.DataFrame({\n",
    "    'nr': [6,3,2,7,10,11],\n",
    "    'product': ['A', 'B', 'C', 'D', 'E', 'F'],\n",
    "    'quantity': np.array([34, 22, 70, 2, 0,4], dtype='uint8'),\n",
    "    'price': [10.99, 12.50, 105, 9.99, 12.95, 10.00],\n",
    "    'available': True\n",
    "})"
   ]
  },
  {
   "cell_type": "code",
   "execution_count": null,
   "metadata": {},
   "outputs": [],
   "source": [
    "# Anzeige der Tabelle\n",
    "df"
   ]
  },
  {
   "cell_type": "markdown",
   "metadata": {},
   "source": [
    "Für Tabellen stehen zunächst eine Reihe von Methoden zur Verfügung, die uns etwas Information über die Tabelle lieferen:"
   ]
  },
  {
   "cell_type": "code",
   "execution_count": null,
   "metadata": {},
   "outputs": [],
   "source": [
    "# generelle Informationen für das DataFrame\n",
    "df.info()"
   ]
  },
  {
   "cell_type": "code",
   "execution_count": null,
   "metadata": {},
   "outputs": [],
   "source": [
    "# Datentypen der Spalten\n",
    "df.dtypes"
   ]
  },
  {
   "cell_type": "code",
   "execution_count": null,
   "metadata": {},
   "outputs": [],
   "source": [
    "# die ersten 5 Zeilen\n",
    "df.head()\n",
    "\n",
    "# oder die ersten 2 Zeilen\n",
    "# df.head(2)"
   ]
  },
  {
   "cell_type": "code",
   "execution_count": null,
   "metadata": {},
   "outputs": [],
   "source": [
    "# ...letzte 5\n",
    "df.tail()"
   ]
  },
  {
   "cell_type": "code",
   "execution_count": null,
   "metadata": {},
   "outputs": [],
   "source": [
    "# Spaltennamen\n",
    "df.columns"
   ]
  },
  {
   "cell_type": "code",
   "execution_count": null,
   "metadata": {},
   "outputs": [],
   "source": [
    "# Größe der Tabelle\n",
    "df.shape"
   ]
  },
  {
   "cell_type": "code",
   "execution_count": null,
   "metadata": {},
   "outputs": [],
   "source": [
    "# Tabelle in NumPy-Array umwandeln\n",
    "df.to_numpy()"
   ]
  },
  {
   "cell_type": "code",
   "execution_count": null,
   "metadata": {},
   "outputs": [],
   "source": [
    "# Datentypen der Spalten\n",
    "df.dtypes"
   ]
  },
  {
   "cell_type": "markdown",
   "metadata": {},
   "source": [
    "## Zugriff auf Zeilen und Spalten\n",
    "Pandas hat eine ganze Reihe von Wegen, wie Zeilen oder Spalten addressiert werden können:"
   ]
  },
  {
   "cell_type": "code",
   "execution_count": null,
   "metadata": {},
   "outputs": [],
   "source": [
    "# Zugriff eine einzelne Spalte als Attribut des DataFrames\n",
    "# - nur lesend und \n",
    "# - nur wenn die Spalte einen Namen hat, der auch ein gültiger Python-Identifier ist"
   ]
  },
  {
   "cell_type": "code",
   "execution_count": null,
   "metadata": {},
   "outputs": [],
   "source": [
    "df.nr\n",
    "# oder\n",
    "# df.quantity\n",
    "# Was ist mit df.product?"
   ]
  },
  {
   "cell_type": "markdown",
   "metadata": {},
   "source": [
    "Wir erhalten hier ein `Series`-Objekt zurück - wie ein DateFrame hat ein `Series`-Objekt auch einen Index, allerdings entspricht eine `Series` einer einzelnen Datenspalte:"
   ]
  },
  {
   "cell_type": "code",
   "execution_count": null,
   "metadata": {},
   "outputs": [],
   "source": [
    "type(df.nr)"
   ]
  },
  {
   "cell_type": "markdown",
   "metadata": {},
   "source": [
    "Über eckigen Klammern können wir ebenfalls Teile der Tabelle auswählen:"
   ]
  },
  {
   "cell_type": "code",
   "execution_count": null,
   "metadata": {},
   "outputs": [],
   "source": [
    "# Zugriff über Spaltennamen als String - einzelne Spalte\n",
    "df['product']\n"
   ]
  },
  {
   "cell_type": "code",
   "execution_count": null,
   "metadata": {},
   "outputs": [],
   "source": [
    "# Zugriff über Spaltennamen als String - mehrere Spalten\n",
    "df[['product', 'quantity']]"
   ]
  },
  {
   "cell_type": "code",
   "execution_count": null,
   "metadata": {},
   "outputs": [],
   "source": [
    "# mit einem Slice werden Zeilen (nach Zeilennummer) addressiert:\n",
    "df[0:2]\n",
    "\n",
    "# oder alle Zeilen rückwärts\n",
    "df[::-1]"
   ]
  },
  {
   "cell_type": "markdown",
   "metadata": {},
   "source": [
    "## Index\n",
    "\n",
    "Bisher haben wir mit dem automatisch generierten Index gearbeitet, welcher die Zeilen von 0 bis n durchnummeriert hat. Häufig beinhaltet eine Spalte bereits einen eindeutigen Index, diesen können wir nutzen, hier z.B. die Produktnummer:"
   ]
  },
  {
   "cell_type": "code",
   "execution_count": null,
   "metadata": {},
   "outputs": [],
   "source": [
    "# nr-Spalte als Index setzen und danach nach nr sortieren\n",
    "df_with_index = df.set_index('nr').sort_index()\n",
    "df_with_index"
   ]
  },
  {
   "cell_type": "code",
   "execution_count": null,
   "metadata": {},
   "outputs": [],
   "source": [
    "# oder: inplace ändern\n",
    "# df.set_index('nr', inplace=True)"
   ]
  },
  {
   "cell_type": "markdown",
   "metadata": {},
   "source": [
    "DataFrames haben immer einen Index, ohne weitere Angaben ist dieser zunächst die Zeilennummerierung. Wir können jederzeit mit `set_index` neu indizieren, oder den aktuellen Index mit `reset_index` verwerden. Beide Methode liefern jeweils ein neues DataFrame zurück."
   ]
  },
  {
   "cell_type": "markdown",
   "metadata": {},
   "source": [
    "## .loc\n",
    "\n",
    "Die Methode `loc` dient zum Indizieren von Zeilen und Spalten mit Spaltennamen und Indexwerten:"
   ]
  },
  {
   "cell_type": "code",
   "execution_count": null,
   "metadata": {},
   "outputs": [],
   "source": [
    "df_with_index.loc[3:10, ['product', 'price']]"
   ]
  },
  {
   "cell_type": "code",
   "execution_count": null,
   "metadata": {},
   "outputs": [],
   "source": [
    "# Übung: Selektieren Sie alle Zeilen mit einer nr >= 10, und die Spalten quantity und price"
   ]
  },
  {
   "cell_type": "code",
   "execution_count": null,
   "metadata": {},
   "outputs": [],
   "source": [
    "# Übung: Selektieren Sie die Zeilen mit nr == 3 und nr == 7"
   ]
  },
  {
   "cell_type": "markdown",
   "metadata": {},
   "source": [
    "## .iloc\n",
    "\n",
    "Die Methode `iloc` dient zum Indizieren von Zeilen und Spalten mit Position:"
   ]
  },
  {
   "cell_type": "code",
   "execution_count": null,
   "metadata": {},
   "outputs": [],
   "source": [
    "print(df_with_index.iloc[0, 0])\n",
    "df_with_index.iloc[0:2, 0:3]"
   ]
  },
  {
   "cell_type": "code",
   "execution_count": null,
   "metadata": {},
   "outputs": [],
   "source": [
    "# Übung: Wie kann man mit `loc` oder `iloc` das gleiche Ergebnis erhalten wie mit `df['quantity']`?"
   ]
  },
  {
   "cell_type": "markdown",
   "metadata": {},
   "source": [
    "# at, iat\n",
    "\n",
    "Zugriffsmethoden, die einen einzelnen Wert zurückliefern (etwas schneller):"
   ]
  },
  {
   "cell_type": "code",
   "execution_count": null,
   "metadata": {},
   "outputs": [],
   "source": [
    "print(df.at[1, 'price'])\n",
    "print(df.iat[0,0])"
   ]
  },
  {
   "cell_type": "markdown",
   "metadata": {},
   "source": [
    "## Stichproben\n",
    "\n",
    "Mit `sample` können wir Stichproben ziehen:"
   ]
  },
  {
   "cell_type": "code",
   "execution_count": null,
   "metadata": {},
   "outputs": [],
   "source": [
    "# drei zufällige Zeilen\n",
    "df.sample(3)"
   ]
  },
  {
   "cell_type": "code",
   "execution_count": null,
   "metadata": {},
   "outputs": [],
   "source": [
    "# drei zufällige Spalten\n",
    "df.sample(3, axis=1)"
   ]
  },
  {
   "cell_type": "code",
   "execution_count": null,
   "metadata": {},
   "outputs": [],
   "source": [
    "# 30% des Datensatzes zufällig auswählen\n",
    "df.sample(frac=0.3)"
   ]
  },
  {
   "cell_type": "markdown",
   "metadata": {},
   "source": [
    "## Auswahl nach Kriterien\n",
    "\n",
    "Wie schon in Numpy können wir in Pandas ebenfalls Vergleichsoperationen auf den ganzen Datensatz oder eine Spalte ausführen, und diese boolsche Ergebnistabelle als Auswahlkriterium nutzen:"
   ]
  },
  {
   "cell_type": "code",
   "execution_count": null,
   "metadata": {},
   "outputs": [],
   "source": [
    "# welche Zeilen haben einen Preis > 15.0?\n",
    "df.price > 15.0"
   ]
  },
  {
   "cell_type": "code",
   "execution_count": null,
   "metadata": {},
   "outputs": [],
   "source": [
    "# Welche Zeilen haben quantity < 10\n",
    "df.quantity < 10"
   ]
  },
  {
   "cell_type": "markdown",
   "metadata": {},
   "source": [
    "Diese boolschen Ergebnisse können als Index verwendet werden (boolsche Indizierung ähnlich wie Numpy):"
   ]
  },
  {
   "cell_type": "code",
   "execution_count": null,
   "metadata": {},
   "outputs": [],
   "source": [
    "# alle Zeilen mit Preis > 15.0\n",
    "df[df.price > 15.0]"
   ]
  },
  {
   "cell_type": "code",
   "execution_count": null,
   "metadata": {},
   "outputs": [],
   "source": [
    "df[df.quantity < 10]"
   ]
  },
  {
   "cell_type": "code",
   "execution_count": null,
   "metadata": {},
   "outputs": [],
   "source": [
    "# oder-Verknüpfung: Alle Zeilen mit price < 10 oder quantity > 10\n",
    "df[(df.price < 10) | (df.quantity > 10)]"
   ]
  },
  {
   "cell_type": "code",
   "execution_count": null,
   "metadata": {},
   "outputs": [],
   "source": [
    "# Bestimmte Produkte suchen - isin-Methode\n",
    "df['product'].isin(['A', 'C', 'D'])"
   ]
  },
  {
   "cell_type": "code",
   "execution_count": null,
   "metadata": {},
   "outputs": [],
   "source": [
    "# die where-Methode - filtert auch, aber belässt die Form der Tabelle. Gefilterte Zeilen werden zu \"missing values\"\n",
    "df.where(df.price < 10)\n"
   ]
  },
  {
   "cell_type": "markdown",
   "metadata": {},
   "source": [
    "## Deskriptive Statistik, Aggregationen\n",
    "\n",
    "Für Spalten, aber auch für den gesamten Datensatz gibt es viele vordefinierte Funktionen:\n",
    "https://pandas.pydata.org/pandas-docs/stable/getting_started/basics.html#descriptive-statistics"
   ]
  },
  {
   "cell_type": "code",
   "execution_count": null,
   "metadata": {},
   "outputs": [],
   "source": [
    "df.count()\n",
    "\n",
    "# oder df['product'].count()"
   ]
  },
  {
   "cell_type": "code",
   "execution_count": null,
   "metadata": {},
   "outputs": [],
   "source": [
    "# Minimum / Maximum\n",
    "df.min()\n",
    "\n",
    "# df.price.min()\n",
    "# df.quantity.min()\n",
    "# df.max()\n",
    "# df.quantity.max()"
   ]
  },
  {
   "cell_type": "code",
   "execution_count": null,
   "metadata": {},
   "outputs": [],
   "source": [
    "# Standardabweichung, Varianz\n",
    "df.std()\n",
    "# df.var()"
   ]
  },
  {
   "cell_type": "code",
   "execution_count": null,
   "metadata": {},
   "outputs": [],
   "source": [
    "df.mean()"
   ]
  },
  {
   "cell_type": "code",
   "execution_count": null,
   "metadata": {
    "scrolled": true
   },
   "outputs": [],
   "source": [
    "df.sum()"
   ]
  },
  {
   "cell_type": "code",
   "execution_count": null,
   "metadata": {},
   "outputs": [],
   "source": [
    "# Beispiel: Spanne vom kleinsten zum größter Preis / Lagerbestand\n",
    "dfn = df[['quantity', 'price']]\n",
    "dfn.max() - dfn.min()\n"
   ]
  },
  {
   "cell_type": "code",
   "execution_count": null,
   "metadata": {},
   "outputs": [],
   "source": [
    "# auch auf Spalten können diese Funktionen angewendet werden\n",
    "df.price.describe()"
   ]
  },
  {
   "cell_type": "markdown",
   "metadata": {},
   "source": [
    "## Veränderung des Datensatzes\n",
    "\n",
    "Viele der bisher gesehenen Auswahlmöglichkeiten erlauben auch das Schreiben, Beispiele:"
   ]
  },
  {
   "cell_type": "code",
   "execution_count": null,
   "metadata": {},
   "outputs": [],
   "source": [
    "dfc = df.copy() # Kopieren des DataFrames\n",
    "dfc.loc[0,'product'] = \"Changed name\"\n",
    "dfc['estimated_value'] = dfc.quantity * dfc.price\n",
    "dfc['name_number_concatenated'] = dfc['product'] + ' ' +  dfc.nr.map(str)\n",
    "dfc"
   ]
  },
  {
   "cell_type": "code",
   "execution_count": null,
   "metadata": {},
   "outputs": [],
   "source": [
    "dfc.loc[0:3, 'price'] *= 2\n",
    "dfc"
   ]
  },
  {
   "cell_type": "code",
   "execution_count": null,
   "metadata": {},
   "outputs": [],
   "source": [
    "dfc['product'] = dfc['product'].str.lower()\n",
    "dfc"
   ]
  },
  {
   "cell_type": "code",
   "execution_count": null,
   "metadata": {},
   "outputs": [],
   "source": [
    "dfc['before d'] = dfc['product'] < 'd'\n",
    "dfc"
   ]
  },
  {
   "cell_type": "markdown",
   "metadata": {},
   "source": [
    "## Pandas Plots"
   ]
  },
  {
   "cell_type": "markdown",
   "metadata": {},
   "source": [
    "Mit einem Pandas-DataFrame kann man auf einfache Weise Plots erstellen - dabei ruft Pandas die verschiedenen Plots von Matplotlib auf. Erzeugen wir zunächst ein paar Testdaten:"
   ]
  },
  {
   "cell_type": "code",
   "execution_count": null,
   "metadata": {},
   "outputs": [],
   "source": [
    "# Hilfsmethode für Zeitbereiche\n",
    "days = pd.date_range('2019-01-01', periods=1000)\n",
    "\n",
    "# 4 zufällige Zeitreihen\n",
    "df = pd.DataFrame(np.random.randn(1000, 4), index=days, columns=list('ABCD'))\n",
    "df = df.cumsum()\n",
    "df.head()\n"
   ]
  },
  {
   "cell_type": "markdown",
   "metadata": {},
   "source": [
    "Einige Beispielaufrufe zum Plotten:"
   ]
  },
  {
   "cell_type": "code",
   "execution_count": null,
   "metadata": {},
   "outputs": [],
   "source": [
    "# Alle Spalten als Linienplot\n",
    "df.plot()"
   ]
  },
  {
   "cell_type": "code",
   "execution_count": null,
   "metadata": {},
   "outputs": [],
   "source": [
    "# Alle Spalten als Linienplot mit Größenangabe\n",
    "df.plot(figsize=(10,7))"
   ]
  },
  {
   "cell_type": "code",
   "execution_count": null,
   "metadata": {},
   "outputs": [],
   "source": [
    "# ... als Subplots\n",
    "df.plot(figsize=(15,10), subplots=True, layout=(2,2), sharey=True, grid=True);"
   ]
  },
  {
   "cell_type": "code",
   "execution_count": null,
   "metadata": {},
   "outputs": [],
   "source": [
    "# Boxplots\n",
    "ax = df.boxplot(figsize=(8,5));\n",
    "ax.set_ylabel('$\\\\alpha$', fontsize=20)\n",
    "ax.set_xlabel('Gruppe', fontsize=20)"
   ]
  },
  {
   "cell_type": "code",
   "execution_count": null,
   "metadata": {},
   "outputs": [],
   "source": [
    "# Scatterplots\n",
    "df.plot(x='A', y='B', kind='scatter');\n",
    "# df.plot.scatter(x='A', y='B');"
   ]
  },
  {
   "cell_type": "code",
   "execution_count": null,
   "metadata": {},
   "outputs": [],
   "source": [
    "# Histogramme\n",
    "df['A'].plot.hist(bins=50)\n",
    "plt.axvline(0, c='r')"
   ]
  },
  {
   "cell_type": "markdown",
   "metadata": {},
   "source": [
    "## Daten einlesen\n",
    "\n",
    "Pandas bringt bereits fertige Lese- und Schreibroutinen für viele bekannte Datenformate mit:\n",
    "\n",
    "https://pandas.pydata.org/pandas-docs/stable/reference/api/pandas.read_csv.html\n",
    "\n",
    "In unseren beiden Übungen werden wir die `read_csv` zum Einlesen von CSV-Dateien verwenden."
   ]
  },
  {
   "cell_type": "markdown",
   "metadata": {},
   "source": [
    "## Übung\n",
    "\n",
    "Bearbeiten Sie jetzt in 2er-Teams das Notebook \"Pandas Übung 1\"."
   ]
  }
 ],
 "metadata": {
  "kernelspec": {
   "display_name": "Python 3",
   "language": "python",
   "name": "python3"
  },
  "language_info": {
   "codemirror_mode": {
    "name": "ipython",
    "version": 3
   },
   "file_extension": ".py",
   "mimetype": "text/x-python",
   "name": "python",
   "nbconvert_exporter": "python",
   "pygments_lexer": "ipython3",
   "version": "3.7.6"
  }
 },
 "nbformat": 4,
 "nbformat_minor": 2
}
