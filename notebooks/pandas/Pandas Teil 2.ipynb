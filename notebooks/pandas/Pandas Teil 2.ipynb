{
 "cells": [
  {
   "cell_type": "markdown",
   "metadata": {},
   "source": [
    "# Pandas Teil 2\n",
    "\n",
    "In diesem Teil sollen noch einige weitere Features von Pandas besprochen werden, darunter hauptsächlich die Fähigkeiten von Pandas rund um das Gruppieren von Daten"
   ]
  },
  {
   "cell_type": "code",
   "execution_count": null,
   "metadata": {},
   "outputs": [],
   "source": [
    "import numpy as np\n",
    "import pandas as pd\n",
    "import matplotlib.pyplot as plt"
   ]
  },
  {
   "cell_type": "markdown",
   "metadata": {},
   "source": [
    "## Fehlende Werte\n",
    "\n",
    "Pandas hat eine Reihe von nützlichen Features zum Umgang mit fehlenden Werten - in Python werden diese meist als NaN codiert:"
   ]
  },
  {
   "cell_type": "code",
   "execution_count": null,
   "metadata": {},
   "outputs": [],
   "source": [
    "# Kombinieren von Datensätzen - Umgang mit fehlenden Werten\n",
    "df1 = pd.DataFrame({'A': [1., np.nan, 3., 5., np.nan],\n",
    "                    'B': [np.nan, 2., 3., np.nan, 6.]})\n",
    "\n",
    "df2 = pd.DataFrame({'A': [5., 2., 4., np.nan, 3., 7.],\n",
    "                    'B': [np.nan, np.nan, 3., 4., 6., 8.]})\n",
    "\n",
    "print(df1)\n",
    "print(df2)"
   ]
  },
  {
   "cell_type": "code",
   "execution_count": null,
   "metadata": {},
   "outputs": [],
   "source": [
    "# Zeilen mit fehlenden Werten wegwerfen"
   ]
  },
  {
   "cell_type": "code",
   "execution_count": null,
   "metadata": {},
   "outputs": [],
   "source": [
    "# Zeilen auffüllen mit anderem Wert"
   ]
  },
  {
   "cell_type": "code",
   "execution_count": null,
   "metadata": {},
   "outputs": [],
   "source": [
    "# Fehlende Werte interpolieren"
   ]
  },
  {
   "cell_type": "code",
   "execution_count": null,
   "metadata": {},
   "outputs": [],
   "source": [
    "# fehlende Werte aus anderer Tabelle auffüllen"
   ]
  },
  {
   "cell_type": "markdown",
   "metadata": {},
   "source": [
    "## Daten gruppieren\n",
    "\n",
    "Das Gruppieren von Daten in Pandas ist einfach zu verstehen, wenn man schon Gruppierungen in SQL gesehen hat. Zeilen werden bei der Gruppierung aufgrund eines Gruppenkriteriums zusammengefasst (z.B. gleiche Werte in einer bestimmten Spalte), und für die anderen Spalten wird eine Aggregatsfunktion angegeben, die vorgibt, wie die zusammengruppierten Werte zusammengefasst (= _aggregiert_) werden.\n",
    "\n",
    "Beispiele:"
   ]
  },
  {
   "cell_type": "code",
   "execution_count": null,
   "metadata": {},
   "outputs": [],
   "source": [
    "df = pd.DataFrame({\n",
    "    \"projekt\": [1,1,2,2,2],\n",
    "    \"art\": [\"Telefon\", \"Reise\", \"Telefon\", \"Reise\", \"Büromaterial\"],\n",
    "    \"betrag\": [50, 129, 34, 340, 12.99]\n",
    "})\n",
    "df"
   ]
  },
  {
   "cell_type": "markdown",
   "metadata": {},
   "source": [
    "Verschiedene Schreibweisen der Aggregation:"
   ]
  },
  {
   "cell_type": "code",
   "execution_count": null,
   "metadata": {},
   "outputs": [],
   "source": []
  },
  {
   "cell_type": "markdown",
   "metadata": {},
   "source": [
    "Wir können dem Gruppierungsprozess zusehen, wenn wir eigene Funktionen für Gruppierung und Aggregation übergeben:"
   ]
  },
  {
   "cell_type": "code",
   "execution_count": null,
   "metadata": {},
   "outputs": [],
   "source": [
    "def gruppierung(i):\n",
    "    print(\"Gruppierung von Zeile\", i)\n",
    "    return df.loc[i].projekt\n",
    "\n",
    "def aggregation(a):\n",
    "    print(\"Aggregation\")\n",
    "    print(a)\n",
    "    return np.sum(a)\n",
    "\n"
   ]
  },
  {
   "cell_type": "markdown",
   "metadata": {},
   "source": [
    "Welche Funktionen sind Aggregatsfunktionen? Die Dokumentation listet sie auf:\n",
    "https://pandas.pydata.org/pandas-docs/stable/user_guide/groupby.html#aggregation"
   ]
  },
  {
   "cell_type": "markdown",
   "metadata": {},
   "source": [
    "Betrachten wir das Objekt, welches wir nach dem Aufruf von `groupby` erhalten."
   ]
  },
  {
   "cell_type": "code",
   "execution_count": null,
   "metadata": {},
   "outputs": [],
   "source": []
  },
  {
   "cell_type": "markdown",
   "metadata": {},
   "source": [
    "Dieses Objekt kann genutzt werden, um Gruppen zu durchlaufen, einzelne Gruppen zu erhalten oder verschiedene Aggregierungsfunktionen nacheinander aufzurufen:"
   ]
  },
  {
   "cell_type": "code",
   "execution_count": null,
   "metadata": {},
   "outputs": [],
   "source": [
    "# Iteration"
   ]
  },
  {
   "cell_type": "code",
   "execution_count": null,
   "metadata": {},
   "outputs": [],
   "source": [
    "# eine Gruppe holen"
   ]
  },
  {
   "cell_type": "code",
   "execution_count": null,
   "metadata": {},
   "outputs": [],
   "source": [
    "# descritive Statistik einer Gruppe"
   ]
  },
  {
   "cell_type": "code",
   "execution_count": null,
   "metadata": {},
   "outputs": [],
   "source": [
    "# Aggregation (z.B. minimum)"
   ]
  },
  {
   "cell_type": "code",
   "execution_count": null,
   "metadata": {},
   "outputs": [],
   "source": [
    "# Aggregation (z.B. max)"
   ]
  },
  {
   "cell_type": "code",
   "execution_count": null,
   "metadata": {},
   "outputs": [],
   "source": [
    "# Mehrfach-Aggregation"
   ]
  },
  {
   "cell_type": "code",
   "execution_count": null,
   "metadata": {},
   "outputs": [],
   "source": [
    "# Aggregation: Summe"
   ]
  },
  {
   "cell_type": "code",
   "execution_count": null,
   "metadata": {},
   "outputs": [],
   "source": [
    "# Gruppierung kann auch bei Plots eingesetzt werden"
   ]
  },
  {
   "cell_type": "markdown",
   "metadata": {},
   "source": [
    "## pivot und melt"
   ]
  },
  {
   "cell_type": "markdown",
   "metadata": {},
   "source": [
    "Betrachten wir folgende Tabelle:"
   ]
  },
  {
   "cell_type": "code",
   "execution_count": null,
   "metadata": {},
   "outputs": [],
   "source": [
    "N = 10\n",
    "rng = np.arange(N)\n",
    "\n",
    "# ein paar Sensorwerte\n",
    "df = pd.DataFrame({\n",
    "    \"time\": pd.date_range('2018-07-09 10:00', periods=N, freq='10min'),\n",
    "    \"sensor1\": np.sin(rng/5)+0.1*np.random.randn(N),\n",
    "    \"sensor2\": np.sin(rng/3)+0.05*np.random.randn(N),\n",
    "    \"sensor3\": np.cos(rng/3)+0.2*np.random.randn(N)\n",
    "})\n",
    "\n",
    "df"
   ]
  },
  {
   "cell_type": "code",
   "execution_count": null,
   "metadata": {},
   "outputs": [],
   "source": [
    "df.plot(x='time', y=['sensor1', 'sensor2', 'sensor3']);"
   ]
  },
  {
   "cell_type": "markdown",
   "metadata": {},
   "source": [
    "Mit `melt` können wir Spalten in Zeilen umwandeln. Der erste Parameter von `melt` ist eine Spalte oder eine Lsite von Spalten die erhalten bleiben sollen. \n",
    "\n",
    "Dabei wird jede Spalte, die nicht erhalten bleiben soll, in eine Liste `(variable, value)` umgewandelt."
   ]
  },
  {
   "cell_type": "code",
   "execution_count": null,
   "metadata": {},
   "outputs": [],
   "source": [
    "df.melt('time')"
   ]
  },
  {
   "cell_type": "markdown",
   "metadata": {},
   "source": [
    "Die umgekehrte Operation heisst `pivot`:"
   ]
  },
  {
   "cell_type": "code",
   "execution_count": null,
   "metadata": {},
   "outputs": [],
   "source": [
    "df.melt('time').pivot(['sensor1'])"
   ]
  },
  {
   "cell_type": "markdown",
   "metadata": {},
   "source": [
    "## Pivottabellen\n",
    "\n",
    "Jetzt da wir die Pivot-Operation kennen, können wir uns auch eine Pivot-Tabelle erzeugen - es ist im Wesentlichen eine Pivot-Operation mit einer Gruppierung und einer Aggregation - ein einfaches Beispiel mit unserer Kostentabelle:"
   ]
  },
  {
   "cell_type": "code",
   "execution_count": null,
   "metadata": {},
   "outputs": [],
   "source": [
    "df_costs = pd.DataFrame({\n",
    "    \"projekt\": [1,1,2,2,2],\n",
    "    \"art\": [\"Telefon\", \"Reise\", \"Telefon\", \"Reise\", \"Büromaterial\"],\n",
    "    \"betrag\": [50, 129, 34, 340, 12.99]\n",
    "})\n"
   ]
  },
  {
   "cell_type": "markdown",
   "metadata": {},
   "source": [
    "Mit unserer Sensortabelle können wir ein interessanteres Beispiel machen:"
   ]
  },
  {
   "cell_type": "code",
   "execution_count": null,
   "metadata": {},
   "outputs": [],
   "source": []
  },
  {
   "cell_type": "markdown",
   "metadata": {},
   "source": [
    "## Übung\n",
    "\n",
    "Bearbeiten Sie in 2er-Teams die Übung \"Pandas Übung 2\"."
   ]
  }
 ],
 "metadata": {
  "kernelspec": {
   "display_name": "Python 3",
   "language": "python",
   "name": "python3"
  },
  "language_info": {
   "codemirror_mode": {
    "name": "ipython",
    "version": 3
   },
   "file_extension": ".py",
   "mimetype": "text/x-python",
   "name": "python",
   "nbconvert_exporter": "python",
   "pygments_lexer": "ipython3",
   "version": "3.7.6"
  }
 },
 "nbformat": 4,
 "nbformat_minor": 2
}
