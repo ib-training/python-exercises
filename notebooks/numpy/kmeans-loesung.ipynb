{
 "cells": [
  {
   "cell_type": "markdown",
   "metadata": {},
   "source": [
    "# k-Means\n",
    "\n",
    "In diesem Notebook wird ein einfacher Cluster-Algorithmus implementiert - das sogenannte k-Means-Verfahren.\n",
    "\n",
    "Gegeben ist dabei ein Datensatz mit zweidimensionalen Datenpunkten:"
   ]
  },
  {
   "cell_type": "code",
   "execution_count": null,
   "metadata": {},
   "outputs": [],
   "source": [
    "import numpy as np\n",
    "import matplotlib.pyplot as plt\n",
    "\n",
    "data = np.load('dataset.npy')\n",
    "plt.plot(data[:,0], data[:,1], '.')\n"
   ]
  },
  {
   "cell_type": "markdown",
   "metadata": {},
   "source": [
    "Mit dem k-Means-Algorithmus sollen jetzt drei Punkte (Cluster-Zentren) gefunden werden, die die Daten sinnvoll in Gruppen einteilt.\n",
    "\n",
    "Der Algorithmus beginnt dabei mit drei zufälligen Punkten, berechnet dann, welche Datenpunkte durch diese 3 Zentren zusammengefasst werden (die Cluster), und berechnet aus diesen Clustern neue Mittelpunkte.\n",
    "\n",
    "Dieses Verfahren wiederholt man dann mit den neuen Mittelpunkten als Startwerte. Nach wenigen Iterationen erhält dadurch immer bessere Cluster-Zentren."
   ]
  },
  {
   "cell_type": "code",
   "execution_count": null,
   "metadata": {},
   "outputs": [],
   "source": [
    "solution = np.array([[ 0.04698695,  2.97358542], [-0.18842837, -0.20000093], [ 1.91783699,  0.08388299]])\n",
    "plt.plot(data[:,0], data[:,1], '.')\n",
    "plt.plot(solution[:,0], solution[:,1], 'o')"
   ]
  },
  {
   "cell_type": "markdown",
   "metadata": {},
   "source": [
    "Implementieren Sie nacheinander die folgenden Funktionen - dabei sind jeweils Tests gegeben, so dass Sie nach jeder Teilaufgabe prüfen können, ob die Funktion korrekt implementiert ist."
   ]
  },
  {
   "cell_type": "code",
   "execution_count": null,
   "metadata": {},
   "outputs": [],
   "source": [
    "def calculate_distances(X, C):\n",
    "    \"\"\"\n",
    "    Eingabe: \n",
    "    X - Eine Liste von Datenpunkten, Shape (n, 2)\n",
    "    C - eine Liste von Cluster-Zentren, Shape (m, 2)\n",
    "    \n",
    "    (n = Anzahl Datenpunkte, m Anzahl Cluster)\n",
    "    \n",
    "    Ausgabe: \n",
    "    \n",
    "    Ein Array der Shape (n, m), welches die jeweiligen Abstände von den Datenpunkten\n",
    "    zu den Cluster-Zentren enthält\n",
    "    \"\"\"\n",
    "\n",
    "    n = X.shape[0]\n",
    "    m = C.shape[0]\n",
    "    \n",
    "    distances = np.zeros((n,m))    \n",
    "    \n",
    "    for i in range(n):\n",
    "        for j in range(m):\n",
    "            distances[i, j] = np.sqrt(np.sum((X[i] - C[j])**2))\n",
    "    \n",
    "    # oder vektorisiert:\n",
    "    # distances = np.sqrt(((C - X[:, np.newaxis])**2).sum(axis=2))\n",
    "    \n",
    "    \n",
    "    assert(distances.shape == (n, m))\n",
    "    \n",
    "    return distances\n",
    "\n",
    "\n",
    "# zum Testen - dieser Aufruf sollte funktionieren\n",
    "# assert(np.allclose(\n",
    "#     calculate_distances(\n",
    "#         np.array([[0,0], [0,1], [1,0], [1,1]]),\n",
    "#         np.array([[0,0], [1,1]])\n",
    "#     ),\n",
    "#     np.array([[0., 1.41421356], [1., 1.], [1., 1.], [1.41421356, 0.]])\n",
    "# ))"
   ]
  },
  {
   "cell_type": "code",
   "execution_count": null,
   "metadata": {},
   "outputs": [],
   "source": [
    "def find_best_clusters(distances):\n",
    "    \"\"\"\n",
    "    Eingabe: \n",
    "    distances - eine Tabelle der Shape (n,m) mit den Abständen von n Datenpunkten zu m Clustern\n",
    "    \n",
    "    Ausgabe:\n",
    "    Ein Array mit der Shape (n, ), welches zu jedem Datenpunkt den Index des nächsten Clusters enthält\n",
    "    \n",
    "    Tipp:\n",
    "    numpy.argmin\n",
    "    \"\"\"\n",
    "\n",
    "    return np.argmin(distances,axis=1)\n",
    "\n",
    "# zum Testen - dieser Aufruf sollte funktionieren\n",
    "# assert(\n",
    "#     np.allclose(\n",
    "#         find_best_clusters(np.array([[0., 1.41421356], [1., 1.], [1., 1.], [1.41421356, 0.]])),\n",
    "#         np.array([0,0,0,1])\n",
    "#     )\n",
    "# )"
   ]
  },
  {
   "cell_type": "code",
   "execution_count": null,
   "metadata": {},
   "outputs": [],
   "source": [
    "def calculate_new_centers(X, classes, m):\n",
    "    \"\"\"\n",
    "    Eingabe:\n",
    "    \n",
    "    X       - Eine Liste von Datenpunkten, Shape (n, 2)\n",
    "    classes - Ein Array mit der Shape (n, ), welches zu jedem Datenpunkt den Index (zwischen 0 und m) \n",
    "              des nächsten Clusters enthält\n",
    "    m       - Anzahl der Clusterzentren\n",
    "    \n",
    "    Ausgabe:\n",
    "    \n",
    "    Ein Array der Shape (m, 2), welches die Mittelpunkte der Datenpunkte enthält, \n",
    "    die zum gleichen Cluster gehören.\n",
    "    \"\"\"\n",
    "    return np.array([X[classes==m].mean(axis=0) for m in range(m)])\n",
    "\n",
    "# zum Testen - dieser Aufruf sollte funktionieren\n",
    "# assert(\n",
    "#     np.allclose(\n",
    "#         calculate_new_centers(np.array([[0,0], [0,1], [1,0], [1,1]]), np.array([0,0,0,1]), 2),\n",
    "#         np.array([[0.33333333, 0.33333333], [1., 1. ]])\n",
    "#     )\n",
    "# )\n"
   ]
  },
  {
   "cell_type": "code",
   "execution_count": null,
   "metadata": {},
   "outputs": [],
   "source": [
    "C = np.random.rand(3,2)\n",
    "\n",
    "assert(C.shape == (3,2))\n",
    "\n",
    "for i in range(10):\n",
    "    plt.figure()\n",
    "    plt.plot(data[:,0], data[:,1], '.')\n",
    "    plt.plot(C[:,0], C[:,1], 'o')\n",
    "\n",
    "    distances = calculate_distances(data, C)\n",
    "    classes = find_best_clusters(distances)\n",
    "    \n",
    "    C = calculate_new_centers(data, classes, 3)\n",
    "    \n",
    "print(\"Beste Clusterzentren:\")\n",
    "print(C)\n",
    "\n",
    "\n"
   ]
  }
 ],
 "metadata": {
  "kernelspec": {
   "display_name": "Python 3.7.6 64-bit",
   "language": "python",
   "name": "python37664bit551a2e35eee1456ab513227862fabade"
  },
  "language_info": {
   "codemirror_mode": {
    "name": "ipython",
    "version": 3
   },
   "file_extension": ".py",
   "mimetype": "text/x-python",
   "name": "python",
   "nbconvert_exporter": "python",
   "pygments_lexer": "ipython3",
   "version": "3.7.6"
  }
 },
 "nbformat": 4,
 "nbformat_minor": 4
}
