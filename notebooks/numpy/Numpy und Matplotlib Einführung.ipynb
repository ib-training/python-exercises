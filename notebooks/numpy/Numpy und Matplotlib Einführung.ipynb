{
 "cells": [
  {
   "cell_type": "markdown",
   "metadata": {},
   "source": [
    "## NumPy\n",
    "\n",
    "ist eine Bibliothek, die Unterstützung für das Arbeiten mit großen, multidimensionalen Arrays und Matrizen bietet, zusammen mit einer großen Zahl mathematischer Funktionen, die auf solchen Arrays arbeiten.\n",
    "\n",
    "Anders als Listen sind die Numpy-Arrays homogen (d.h. alle Werte in einem Numpy-Array haben den selben Typ) und haben eine feste Größe (d.h. Veränderungen der Größe führen zu Kopieraktionen und sind langsamer). \n",
    "\n",
    "Die wesentlichen Operationen auf Numpy-Arrays werden durch C-Routinen durchgeführt, daher ist Numpy _schnell_.\n",
    "\n",
    "Um NumPy zu nutzen, muss es importiert werden (die Einführung des Alias `np` ist dabei Konvention, um weniger tippen zu müssen):\n"
   ]
  },
  {
   "cell_type": "code",
   "execution_count": null,
   "metadata": {},
   "outputs": [],
   "source": [
    "import numpy as np "
   ]
  },
  {
   "cell_type": "markdown",
   "metadata": {},
   "source": [
    "Zentrale Datenstruktur ist das `ndarray`, welches ein Array fester Größe bestehend aus Elementen des selben Typs darstellt. NumPy-Arrays sind also im Gegensatz zu Python-Listen homogene Datenstrukturen.\n",
    "\n",
    "Erzeugung eines eindimensionalen Arrays:"
   ]
  },
  {
   "cell_type": "code",
   "execution_count": null,
   "metadata": {},
   "outputs": [],
   "source": []
  },
  {
   "cell_type": "markdown",
   "metadata": {},
   "source": [
    "Einige elementare Eigenschaften:"
   ]
  },
  {
   "cell_type": "code",
   "execution_count": null,
   "metadata": {},
   "outputs": [],
   "source": [
    "# Array als String\n",
    "\n",
    "# Typ des Arrays\n",
    "\n",
    "# Typ der Elemente\n",
    "\n",
    "# Numpy-Typ des darunter liegenden C-Arrays"
   ]
  },
  {
   "cell_type": "markdown",
   "metadata": {},
   "source": [
    "Tatsächlich erzeugen wir hier erst eine Python-Liste und daraus dann ein Numpy-Array - nicht sehr effizient, aber dies wird meist nur bei kleinen Datenmengen gemacht. Größere Arrays entstehen durch Laden von Daten oder durch Berechnungen."
   ]
  },
  {
   "cell_type": "markdown",
   "metadata": {},
   "source": [
    "## Matplotlib"
   ]
  },
  {
   "cell_type": "markdown",
   "metadata": {},
   "source": [
    "`Matplotlib` ist eine Standardlibrary zum Erstellen verschiedener Plots in Python - wir werden von dieser Library verschiedene Funktionen aufrufen, um unsere Daten zu visualisieren. Der Import (die Einführung des Alias `plt` ist dabei Konvention):"
   ]
  },
  {
   "cell_type": "code",
   "execution_count": null,
   "metadata": {},
   "outputs": [],
   "source": [
    "# diese Zeile benötigt man je nach jupyter-Einstellung \n",
    "# - sie bewirkt, dass die Plots direkt im Notebook angezeigt werden.\n",
    "%matplotlib inline\n",
    "\n",
    "import matplotlib.pyplot as plt"
   ]
  },
  {
   "cell_type": "code",
   "execution_count": null,
   "metadata": {},
   "outputs": [],
   "source": [
    "# einfache Linien- oder Punktplots mit plt.plot:\n"
   ]
  },
  {
   "cell_type": "code",
   "execution_count": null,
   "metadata": {},
   "outputs": [],
   "source": [
    "# Matplotlib hat sehr viele Features!\n",
    "\n",
    "# Beispiele"
   ]
  },
  {
   "cell_type": "markdown",
   "metadata": {},
   "source": [
    "## Dimensionen und Shape\n",
    "\n",
    "Jedes Array hat bestimmte Dimensionen - die Anzahl der Dimensionen können wir mit `ndim` und die konkreten Größen jeder Dimension mit `shape` erfahren:\n"
   ]
  },
  {
   "cell_type": "code",
   "execution_count": null,
   "metadata": {},
   "outputs": [],
   "source": [
    "a = np.array([1, 2, 3, 4])\n",
    "a"
   ]
  },
  {
   "cell_type": "code",
   "execution_count": null,
   "metadata": {},
   "outputs": [],
   "source": [
    "# Dimensionen\n"
   ]
  },
  {
   "cell_type": "code",
   "execution_count": null,
   "metadata": {},
   "outputs": [],
   "source": [
    "# Shape / Form des Arrays\n"
   ]
  },
  {
   "cell_type": "markdown",
   "metadata": {},
   "source": [
    "Betrachten wir eine Matrix (2 Dimensionen)"
   ]
  },
  {
   "cell_type": "code",
   "execution_count": null,
   "metadata": {},
   "outputs": [],
   "source": [
    "a = np.array([[1, 2, 3], [4, 5, 6]])\n",
    "\n",
    "# Dimension, Shape und Form"
   ]
  },
  {
   "cell_type": "markdown",
   "metadata": {},
   "source": [
    "Numpy unterstützt dabei nicht nur Vektoren und Matrizen, sondern Tensoren beliebiger Dimensionalität, hier ein Beispiel mit 3 Dimensionen:"
   ]
  },
  {
   "cell_type": "code",
   "execution_count": null,
   "metadata": {},
   "outputs": [],
   "source": [
    "a = np.array(\n",
    "    [\n",
    "        [[1, 2], [3, 4]],\n",
    "        [[5, 6], [7, 8]]\n",
    "    ]\n",
    ")\n",
    "\n",
    "# Dimension, Shape und Form"
   ]
  },
  {
   "cell_type": "markdown",
   "metadata": {},
   "source": [
    "## Erzeugung von Arrays\n",
    "\n",
    "Neben der direkten Konstruktion duch Angabe von Werten gibt es eine Reihe von weiteren Möglichkeiten, Numpy-Arrays zu erzeugen:"
   ]
  },
  {
   "cell_type": "code",
   "execution_count": null,
   "metadata": {},
   "outputs": [],
   "source": [
    "# Matrix mit Nullen erzeugen"
   ]
  },
  {
   "cell_type": "code",
   "execution_count": null,
   "metadata": {},
   "outputs": [],
   "source": [
    "# Matrix mit Einsen  "
   ]
  },
  {
   "cell_type": "code",
   "execution_count": null,
   "metadata": {},
   "outputs": [],
   "source": [
    "# Matrix mit vordefiniertem Wert"
   ]
  },
  {
   "cell_type": "code",
   "execution_count": null,
   "metadata": {},
   "outputs": [],
   "source": [
    "# Einheitsmatrix"
   ]
  },
  {
   "cell_type": "code",
   "execution_count": null,
   "metadata": {},
   "outputs": [],
   "source": [
    "# Matrix mit Zufallswerten 0 <= v < 1"
   ]
  },
  {
   "cell_type": "code",
   "execution_count": null,
   "metadata": {},
   "outputs": [],
   "source": [
    "# Zahlenfolgen"
   ]
  },
  {
   "cell_type": "code",
   "execution_count": null,
   "metadata": {},
   "outputs": [],
   "source": [
    "# Zahlenfolgen mit Schrittweite"
   ]
  },
  {
   "cell_type": "code",
   "execution_count": null,
   "metadata": {},
   "outputs": [],
   "source": [
    "# Gleichmässig verteilte Zahlen in einem Bereich (hier: 11 Zahlen, von 0 bis 1)"
   ]
  },
  {
   "cell_type": "code",
   "execution_count": null,
   "metadata": {},
   "outputs": [],
   "source": [
    "# Gleichmässig verteilte Zahlen in einem Bereich (hier: 10 Zahlen, von 0 bis 1)"
   ]
  },
  {
   "cell_type": "markdown",
   "metadata": {},
   "source": [
    "## Funktionen und Methoden in Numpy"
   ]
  },
  {
   "cell_type": "markdown",
   "metadata": {},
   "source": [
    "Die vielen Features von Numpy lassen sich in zwei Gruppen einteilen - Gruppe 1: Funktionen, die über das Modul aufgerufen werden.\n",
    "\n",
    "Diese werden in der Numpy-Dokumentation _Routines_ genannt: \n",
    "\n",
    "https://docs.scipy.org/doc/numpy/reference/routines.html (sehr viele)\n",
    "\n",
    "https://docs.scipy.org/doc/numpy/reference/routines.math.html (mathematische Funktionen)"
   ]
  },
  {
   "cell_type": "code",
   "execution_count": null,
   "metadata": {},
   "outputs": [],
   "source": [
    "a = np.array([1, 2, 3, 4, 5])\n",
    "\n",
    "# min, max, sum, mean, std, var als \"Routine\"\n"
   ]
  },
  {
   "cell_type": "markdown",
   "metadata": {},
   "source": [
    "Gruppe 2: Methoden, die auf einem Array aufgerufen werden (https://docs.scipy.org/doc/numpy/reference/generated/numpy.ndarray.html)"
   ]
  },
  {
   "cell_type": "code",
   "execution_count": null,
   "metadata": {},
   "outputs": [],
   "source": [
    "# min, max, sum, mean, std, var als Methode"
   ]
  },
  {
   "cell_type": "markdown",
   "metadata": {},
   "source": [
    "Viele Fähigkeiten stehen sowohl als Funktion als auch als Methode zur Verfügung, und es ist eine Frage des Geschmacks, welche man benutzt - manche Funktionen verhalten sich allerdings auch unterschiedlich zu den gleichnamigen Methoden, Beispiel `sort`:"
   ]
  },
  {
   "cell_type": "code",
   "execution_count": null,
   "metadata": {},
   "outputs": [],
   "source": [
    "# Sortieren, Kopie\n",
    "a = np.array([5,2,3,7,1])"
   ]
  },
  {
   "cell_type": "code",
   "execution_count": null,
   "metadata": {},
   "outputs": [],
   "source": [
    "# Sortieren inplace"
   ]
  },
  {
   "cell_type": "markdown",
   "metadata": {},
   "source": [
    "Viele Funktionen können auch mit Dimension konfiguriert werden:"
   ]
  },
  {
   "cell_type": "code",
   "execution_count": null,
   "metadata": {},
   "outputs": [],
   "source": [
    "a = np.array(\n",
    "    [\n",
    "        [[1, 2], [3, 4]],\n",
    "        [[5, 6], [7, 8]]\n",
    "    ]\n",
    ")\n",
    "\n",
    "# sum und mean über verschiedene Dimensionen"
   ]
  },
  {
   "cell_type": "markdown",
   "metadata": {},
   "source": [
    "## Indizierung\n",
    "\n",
    "Wir können auf Elemente ähnlich wie bei Python-Listen zugreifen, und die Arrays können _inplace_ geändert werden. Auch in Numpy wird ab 0 indiziert, was für Umsteiger von Matlab eine gewisse Umgewöhnung erfordert."
   ]
  },
  {
   "cell_type": "code",
   "execution_count": null,
   "metadata": {},
   "outputs": [],
   "source": [
    "a = np.array([1, 2, 3])\n",
    "\n",
    "# Indizierter Zugriff, Lesen und Schreiben"
   ]
  },
  {
   "cell_type": "markdown",
   "metadata": {},
   "source": [
    "Bei mehreren Dimensionen müssen wir mit Mehrfachindizierung arbeiten:"
   ]
  },
  {
   "cell_type": "code",
   "execution_count": null,
   "metadata": {},
   "outputs": [],
   "source": [
    "a = np.array([[1, 2], [3, 4]])\n",
    "\n",
    "# Mehrfachindizierung, zwei Formen"
   ]
  },
  {
   "cell_type": "markdown",
   "metadata": {},
   "source": [
    "Wir können uns auch eine Zeile als einzelnes Array holen - Vorsicht, dies liefert eine View, d.h. Änderungen an der Zeile ändern auch die Ursprungsmatrix:"
   ]
  },
  {
   "cell_type": "code",
   "execution_count": null,
   "metadata": {},
   "outputs": [],
   "source": [
    "a = np.array([[1, 2], [3, 4]])\n",
    "\n",
    "# Zeilen holen, zwei Formen"
   ]
  },
  {
   "cell_type": "code",
   "execution_count": null,
   "metadata": {},
   "outputs": [],
   "source": [
    "row1 = a[0]   # Zeile 1 in separater Variablen\n",
    "row1[0] = 10  # Wir verändern Zeile 1\n",
    "\n",
    "a # die Originalmatrix wurde geändert"
   ]
  },
  {
   "cell_type": "markdown",
   "metadata": {},
   "source": [
    "Der Doppelpunkt kann verwendet werden, er bedeutet: \"Alle Indizes dieser Dimension\":"
   ]
  },
  {
   "cell_type": "code",
   "execution_count": null,
   "metadata": {},
   "outputs": [],
   "source": [
    "print(\"Erste Zeile\", a[0, :])   \n",
    "print(\"Erste Spalte\", a[:, 0])  \n",
    "print(\"Zweite Spalte\", a[:, 1])  "
   ]
  },
  {
   "cell_type": "markdown",
   "metadata": {},
   "source": [
    "Auch das Slicing (siehe Python-Listen) kann genutzt werden:"
   ]
  },
  {
   "cell_type": "code",
   "execution_count": null,
   "metadata": {},
   "outputs": [],
   "source": [
    "b = np.array([[1, 2, 3, 4], [5, 6, 7, 8], [9, 10, 11, 12]])\n",
    "b"
   ]
  },
  {
   "cell_type": "code",
   "execution_count": null,
   "metadata": {},
   "outputs": [],
   "source": [
    "# slicing Beispiel"
   ]
  },
  {
   "cell_type": "code",
   "execution_count": null,
   "metadata": {},
   "outputs": [],
   "source": [
    "# Änderung aller Elemente in der Teilmatrix\n"
   ]
  },
  {
   "cell_type": "markdown",
   "metadata": {},
   "source": [
    "## Frage\n",
    "\n",
    "Was ist der Unterschied zwischen den folgenden beiden Zugriffen auf das Array `b`?"
   ]
  },
  {
   "cell_type": "code",
   "execution_count": null,
   "metadata": {},
   "outputs": [],
   "source": [
    "b = np.array([[1, 2, 3, 4], [5, 6, 7, 8], [9, 10, 11, 12]])\n",
    "\n",
    "print(b[1:2, 1:4].shape)\n",
    "print(b[1, 1:4].shape)"
   ]
  },
  {
   "cell_type": "markdown",
   "metadata": {},
   "source": [
    "## Vektorisieren von Berechnungen"
   ]
  },
  {
   "cell_type": "markdown",
   "metadata": {},
   "source": [
    "Einer der Hauptgründe, warum Numpy so beliebt ist: Wir können Berechnungen auf vielen Daten vektorisieren - d.h. wir können komplexe Berechnungen auf Daten als Vektoroperationen ausdrücken und so Iteration und Schleifen vermeiden. Dies führt nicht nur zu kurzem und elegantem Code, sondern auch zu einer erheblichen Beschleunigung der Berechnungen, da die Iteration jetzt nicht mehr in Python stattfindet, sondern in stark optimiertem C-Code."
   ]
  },
  {
   "cell_type": "code",
   "execution_count": null,
   "metadata": {},
   "outputs": [],
   "source": [
    "a = np.array([1, 2, 3, 4, 5])\n",
    "\n",
    "# wenn ein Array mit einer Zahl verknüft wird, wird die Berechnung auf allen Elementen des Arrays durchgeführt\n",
    "# man nennt dies \"Vektorisieren\"\n",
    "\n",
    "# Beispiele ..."
   ]
  },
  {
   "cell_type": "code",
   "execution_count": null,
   "metadata": {},
   "outputs": [],
   "source": [
    "# Vergleich Schleifen vs Vektorisierung:\n",
    "\n",
    "# ohne Numpy\n",
    "def test1():\n",
    "    a = np.ones((100,100))\n",
    "    for i in range(100):\n",
    "        for j in range(100):\n",
    "            a[i,j] = a[i,j] * 5 \n",
    "    return a\n",
    "            \n",
    "def test2():\n",
    "    return np.ones((100,100)) * 5\n",
    "    \n",
    "# Geschwindigkeitsvergleich"
   ]
  },
  {
   "cell_type": "markdown",
   "metadata": {},
   "source": [
    "Auch Funktionen können mit vektorisiert genutzt werden:"
   ]
  },
  {
   "cell_type": "code",
   "execution_count": null,
   "metadata": {},
   "outputs": [],
   "source": [
    "X = np.linspace(0, 2*np.pi, 100)\n",
    "\n",
    "# sin, cos, exp und log berechnen..."
   ]
  },
  {
   "cell_type": "code",
   "execution_count": null,
   "metadata": {},
   "outputs": [],
   "source": [
    "# und plotten ..."
   ]
  },
  {
   "cell_type": "markdown",
   "metadata": {},
   "source": [
    "## Übung\n",
    "\n",
    "Die logistische Funktion ist gegeben als:\n",
    "\n",
    "$$ S(x) = \\frac{1}{1 + e^{-x}} $$\n",
    "\n",
    "Implementieren Sie diese Funktion vektorisiert, und plotten Sie die Funktion im Bereich -5 bis 5."
   ]
  },
  {
   "cell_type": "code",
   "execution_count": null,
   "metadata": {},
   "outputs": [],
   "source": [
    "def logistic(x):\n",
    "    # TODO Implementieren Sie die Funktion gemäß der Formel mit Numpy\n",
    "    pass\n",
    "\n",
    "X = np.linspace(-5, 5, 1000)\n",
    "plt.plot(X, logistic(X))"
   ]
  },
  {
   "cell_type": "markdown",
   "metadata": {},
   "source": [
    "## Reshaping\n",
    "\n",
    "Häufig muss eine Matrix in eine bestimmte Form gebracht werden - dazu gibt es verschiedene Wege, wie die Form (`shape`) verändert werden kann. Erste Möglichkeit ist das Setzen der Shape-Eigenschaft:\n",
    "\n"
   ]
  },
  {
   "cell_type": "code",
   "execution_count": null,
   "metadata": {},
   "outputs": [],
   "source": [
    "a = np.arange(0,12)\n",
    "a"
   ]
  },
  {
   "cell_type": "code",
   "execution_count": null,
   "metadata": {},
   "outputs": [],
   "source": [
    "# Shape ändern mit .shape"
   ]
  },
  {
   "cell_type": "code",
   "execution_count": null,
   "metadata": {},
   "outputs": [],
   "source": [
    "# Shape ändern mit .shape"
   ]
  },
  {
   "cell_type": "markdown",
   "metadata": {},
   "source": [
    "Die Funktion `reshape` hingegen erzeugt eine neue View auf die Daten - diese Funktion kann dabei sowohl als NumPy-Funktion als auch als Methode auf einem Array aufgerufen werden:"
   ]
  },
  {
   "cell_type": "code",
   "execution_count": null,
   "metadata": {},
   "outputs": [],
   "source": [
    "# reshape Beispiel 1"
   ]
  },
  {
   "cell_type": "code",
   "execution_count": null,
   "metadata": {},
   "outputs": [],
   "source": [
    "# reshape Beispiel 2"
   ]
  },
  {
   "cell_type": "code",
   "execution_count": null,
   "metadata": {},
   "outputs": [],
   "source": [
    "# reshape Beispiel 3"
   ]
  },
  {
   "cell_type": "markdown",
   "metadata": {},
   "source": [
    "Eine der Dimensionsparameter bei Reshape darf -1 sein (dies bedeutet \"die übrigen Elemente\"):"
   ]
  },
  {
   "cell_type": "code",
   "execution_count": null,
   "metadata": {},
   "outputs": [],
   "source": [
    "# Reshape, Beispiel mit -1"
   ]
  },
  {
   "cell_type": "markdown",
   "metadata": {},
   "source": [
    "## Fancy indexing\n",
    "\n",
    "Wenn wir ein Array mit Indizies haben, können wir dieses Array nutzen, um damit Werte aus einem anderen Array zu adressieren:"
   ]
  },
  {
   "cell_type": "code",
   "execution_count": null,
   "metadata": {},
   "outputs": [],
   "source": [
    "a = np.arange(10) +1\n",
    "a"
   ]
  },
  {
   "cell_type": "code",
   "execution_count": null,
   "metadata": {},
   "outputs": [],
   "source": [
    "indices = np.array([2, 5, 9])\n",
    "a[indices]"
   ]
  },
  {
   "cell_type": "markdown",
   "metadata": {},
   "source": [
    "Wenn man mit mehrdimensionalen Arrays arbeitet, dann hat das Ergebnis die Form des Index-Arrays, und damit sind interessante Operationen möglich - hier ein Beispiel aus der Python-Dokumentation:"
   ]
  },
  {
   "cell_type": "code",
   "execution_count": null,
   "metadata": {
    "scrolled": true
   },
   "outputs": [],
   "source": [
    "palette = np.array([\n",
    "    [  0,   0,   0],    # black\n",
    "    [255,   0,   0],    # red\n",
    "    [  0, 255,   0],    # green\n",
    "    [  0,   0, 255],    # blue\n",
    "    [255, 255, 255]     # white\n",
    "])       \n",
    "\n",
    "image = np.array([ \n",
    "    [ 0, 1, 2, 0 ], # each value corresponds to a color in the palette\n",
    "    [ 0, 3, 4, 0 ]  \n",
    "])\n",
    "\n",
    "\n",
    "# fancy-Indexing mit Farbindex und Farbtabelle (palette)\n"
   ]
  },
  {
   "cell_type": "markdown",
   "metadata": {},
   "source": [
    "## Übung\n",
    "\n",
    "Testen Sie die folgenden Befehle - was machen sie?\n",
    "\n",
    "    a = np.array([[1,2,3],[4,5,6]])\n",
    "    a.ravel()    # oder np.ravel(a)\n",
    "    a.flatten()\n",
    "    \n",
    "    a.T\n",
    "    np.transpose(a)\n",
    "    \n",
    "    a.reshape(3,2)\n",
    "\n"
   ]
  },
  {
   "cell_type": "markdown",
   "metadata": {},
   "source": [
    "## Übung\n",
    "\n",
    "An dieser Stellen sollen größere Übungen gemacht werden - jede dieser Übungen benötigt ca. 60 - 90 Minuten Zeit.\n",
    "\n",
    "__Übung 1:__ Implementierung des k-Means-Clustering-Verfahrens (siehe separates Notebook)\n",
    "\n",
    "oder\n",
    "\n",
    "__Übung 2:__ Ein Übung zu Arbeiten mit RGB-Bilddaten (siehe separates Notebook)\n"
   ]
  },
  {
   "cell_type": "markdown",
   "metadata": {},
   "source": [
    "## Beispiel: Funktion mit zwei Variablen plotten"
   ]
  },
  {
   "cell_type": "code",
   "execution_count": null,
   "metadata": {},
   "outputs": [],
   "source": [
    "x = np.arange(-5, 5, 0.1)\n",
    "y = np.arange(-5, 5, 0.1)\n",
    "xx, yy = np.meshgrid(x, y)\n",
    "\n",
    "z = xx**2 + yy**2\n",
    "\n",
    "from mpl_toolkits import mplot3d\n",
    "fig = plt.figure()\n",
    "ax = plt.axes(projection='3d')\n",
    "\n",
    "\n",
    "ax.plot_surface(xx, yy, z)"
   ]
  },
  {
   "cell_type": "markdown",
   "metadata": {},
   "source": [
    "## Operationen auf Arrays - Broadcasting"
   ]
  },
  {
   "cell_type": "markdown",
   "metadata": {},
   "source": [
    "Wenn wir Array miteinander verknüpfen, dann werden viele Operationen elementweise ausgeführt:"
   ]
  },
  {
   "cell_type": "code",
   "execution_count": null,
   "metadata": {},
   "outputs": [],
   "source": [
    "a = np.array([1, 2, 3, 4, 5])\n",
    "b = np.array([5, 4, 3, 2, 1])\n",
    "\n",
    "print(a + b)\n",
    "print(a * b)\n"
   ]
  },
  {
   "cell_type": "markdown",
   "metadata": {},
   "source": [
    "## Broadcasting mit mehreren Dimensionen\n",
    "\n",
    "Auch mit mehreren Dimensionen ist Broadcasting möglich - betrachten wir die Regeln dazu an folgendem Beispiel:\n",
    "\n",
    "    a = np.array([\n",
    "        [1, 1, 1],\n",
    "        [1, 1, 1]\n",
    "    ])\n",
    "\n",
    "    b = np.array(\n",
    "        [1, 2, 3]\n",
    "    )\n",
    "    \n",
    "    Dimensionen a -> 2 x 3\n",
    "    Dimensionen b ->     3\n",
    "\n",
    "\n",
    "Wenn die beiden Arrays nicht die selbe Anzahl Dimensionen haben, dann wird die Form des kürzere Arrays mit Dimensionen der Länge 1 aufgefüllt. und zwar auf der linken Seite:\n",
    "\n",
    "    Dimensionen a -> 2 x 3\n",
    "    Dimensionen b -> 1 x 3\n",
    "\n",
    "Wenn die Form in einer Dimension jetzt nicht passt gibt es zwei Möglichkeiten:\n",
    "\n",
    "a) Wenn eine der beiden Dimensionen die Länge 1 hat, dann wird diese durch Wiederholen der Elemente auf die selbe Länge gebracht wie die Länge dieser Dimension im anderen Array\n",
    "\n",
    "    Dimensionen a -> 2 x 3\n",
    "    Dimensionen b -> 2 x 3\n",
    "\n",
    "b) sonst wird ein Fehler ausgegeben\n",
    "\n",
    "https://docs.scipy.org/doc/numpy/user/basics.broadcasting.html"
   ]
  },
  {
   "cell_type": "code",
   "execution_count": null,
   "metadata": {},
   "outputs": [],
   "source": [
    "# Beispiel 1\n",
    "a = np.array([\n",
    "    [1, 1, 1],\n",
    "    [1, 1, 1]\n",
    "])\n",
    "\n",
    "b = np.array(\n",
    "    [1, 2, 3]\n",
    ")\n",
    "\n",
    "print(a+b)"
   ]
  },
  {
   "cell_type": "code",
   "execution_count": null,
   "metadata": {},
   "outputs": [],
   "source": [
    "# Beispiel 2\n",
    "a = np.array([\n",
    "    [1, 1, 1],\n",
    "    [1, 1, 1]\n",
    "])\n",
    "b = np.array(\n",
    "    [\n",
    "        [2], \n",
    "        [3]\n",
    "    ])\n",
    "\n",
    "print(a+b)"
   ]
  },
  {
   "cell_type": "code",
   "execution_count": null,
   "metadata": {},
   "outputs": [],
   "source": [
    "# Beispiel 3\n",
    "a = np.array([\n",
    "    [1, 1, 1],\n",
    "    [1, 1, 1]\n",
    "])\n",
    "b = np.array(\n",
    "    [2,3]\n",
    ")\n",
    "\n",
    "try:\n",
    "    print(a+b)\n",
    "except ValueError as e:\n",
    "    print(e)"
   ]
  },
  {
   "cell_type": "markdown",
   "metadata": {},
   "source": [
    "## Boolsche Indizierung\n",
    "\n",
    "Was passiert, wenn wir Numpy-Arrays mit Bedingungen verknüpfen?"
   ]
  },
  {
   "cell_type": "code",
   "execution_count": null,
   "metadata": {},
   "outputs": [],
   "source": [
    "a = np.array([1, 2, 3, 4, 5])\n",
    "\n",
    "# Vergleich auf Numpy-Arrays"
   ]
  },
  {
   "cell_type": "markdown",
   "metadata": {},
   "source": [
    "Wir erhalten eine Array mit boolschen Werten zurück. Auch für solche Array gibt es nützliche Funktionen:"
   ]
  },
  {
   "cell_type": "code",
   "execution_count": null,
   "metadata": {},
   "outputs": [],
   "source": [
    "print(np.all(np.array([False, False, False,  True,  True])))\n",
    "print(np.any(np.array([False, False, False,  True,  True])))\n",
    "\n",
    "\n",
    "print(np.all(a > 3))\n",
    "print(np.any(a > 3))"
   ]
  },
  {
   "cell_type": "markdown",
   "metadata": {},
   "source": [
    "Besonders interessant ist dies als Indizierung - die boolschen Arrays können als Maske dienen, um uns bestimmte Elemente aus einer Matrix auszuwählen:"
   ]
  },
  {
   "cell_type": "code",
   "execution_count": null,
   "metadata": {},
   "outputs": [],
   "source": [
    "a = np.array(\n",
    "    [\n",
    "        [1, 0, 1],\n",
    "        [0, 1, 0]\n",
    "    ]\n",
    ")\n",
    "\n",
    "np.argwhere(a > 0)"
   ]
  },
  {
   "cell_type": "code",
   "execution_count": null,
   "metadata": {},
   "outputs": [],
   "source": [
    "a[a > 3] = 3\n",
    "a[a < 3] = 3\n",
    "a"
   ]
  },
  {
   "cell_type": "markdown",
   "metadata": {},
   "source": [
    "## Verknüpfung von Arrays"
   ]
  },
  {
   "cell_type": "markdown",
   "metadata": {},
   "source": [
    "Es gibt verschiedene Möglichkeiten, Arrays zu verknüpfen:"
   ]
  },
  {
   "cell_type": "code",
   "execution_count": null,
   "metadata": {},
   "outputs": [],
   "source": [
    "a = np.array([1, 2, 3, 4])\n",
    "b = np.array([5, 6, 7, 8])"
   ]
  },
  {
   "cell_type": "code",
   "execution_count": null,
   "metadata": {},
   "outputs": [],
   "source": [
    "np.stack([a,b])"
   ]
  },
  {
   "cell_type": "code",
   "execution_count": null,
   "metadata": {},
   "outputs": [],
   "source": [
    "np.concatenate([a,b])"
   ]
  },
  {
   "cell_type": "code",
   "execution_count": null,
   "metadata": {},
   "outputs": [],
   "source": [
    "c = a.reshape((2,2))\n",
    "d = b.reshape((2,2))\n",
    "\n",
    "print(np.stack([c,d]))\n",
    "print(np.hstack([c,d]))\n",
    "print(np.vstack([c,d]))"
   ]
  },
  {
   "cell_type": "markdown",
   "metadata": {},
   "source": [
    "## Lineare Algebra\n",
    "\n",
    "NumPy bietet natürlich eine Vielzahl von Funktionen rund um die lineare Algebra - ein paar sollen hier beispielhaft vorgestellt werden:\n",
    "\n",
    "https://docs.scipy.org/doc/numpy/reference/routines.linalg.html"
   ]
  },
  {
   "cell_type": "code",
   "execution_count": null,
   "metadata": {},
   "outputs": [],
   "source": [
    "import numpy.linalg as la\n",
    "A = np.array([[1.0, 2.0], [3.0, 4.0]])  # 2x2 Matrix\n",
    "b = np.array([5.0, 6.0]).reshape((2,1)) # Zeilenvektor\n",
    "print(A)\n",
    "print(b)"
   ]
  },
  {
   "cell_type": "code",
   "execution_count": null,
   "metadata": {},
   "outputs": [],
   "source": [
    "# Matrixmultiplikationen\n",
    "print(np.dot(A, b))\n",
    "print(np.matmul(A, b))\n",
    "print(A.dot(b))\n",
    "print(A @ b)"
   ]
  },
  {
   "cell_type": "code",
   "execution_count": null,
   "metadata": {},
   "outputs": [],
   "source": [
    "# Länge eines Vektors\n",
    "la.norm(b)"
   ]
  },
  {
   "cell_type": "code",
   "execution_count": null,
   "metadata": {},
   "outputs": [],
   "source": [
    "# Determinante einer Matrix\n",
    "la.det(A)"
   ]
  },
  {
   "cell_type": "code",
   "execution_count": null,
   "metadata": {},
   "outputs": [],
   "source": [
    "# Lösen der Gleichung A x = b\n",
    "la.solve(A ,b)"
   ]
  },
  {
   "cell_type": "code",
   "execution_count": null,
   "metadata": {},
   "outputs": [],
   "source": [
    "# A**-1 * b\n",
    "la.inv(A).dot(b)"
   ]
  },
  {
   "cell_type": "code",
   "execution_count": null,
   "metadata": {},
   "outputs": [],
   "source": [
    "import seaborn as sns\n",
    "import numpy.linalg as la\n",
    "\n",
    "cov = np.array([\n",
    "    [0.47625365, 0.44504225],\n",
    "    [0.44504225, 0.68525804]\n",
    "])\n",
    "\n",
    "X = np.random.multivariate_normal(np.array([0, 0]), cov, 500)\n",
    "\n",
    "# Eigenwerte/Vectoren berechnen\n",
    "[e0, e1], vecs = la.eig(cov)\n",
    "\n",
    "# Vektoren mit Eigenwert skalieren\n",
    "v0 = vecs[:,0] * np.sqrt(e0)\n",
    "v1 = vecs[:,1] * np.sqrt(e1)\n",
    "\n",
    "# seaborn bietet einige schöne Plots\n",
    "g = sns.jointplot(X[:,0], X[:,1])\n",
    "g.ax_joint.plot([0,v0[0]],[0,v0[1]], c='r', linewidth=3.0 )\n",
    "g.ax_joint.plot([0,v1[0]],[0,v1[1]], c='r', linewidth=3.0 )\n"
   ]
  },
  {
   "cell_type": "markdown",
   "metadata": {},
   "source": [
    "## Übung\n",
    "\n",
    "Übung Vektoren und Matrizen (siehe separates Notebook)"
   ]
  }
 ],
 "metadata": {
  "celltoolbar": "Raw Cell Format",
  "kernelspec": {
   "display_name": "Python 3",
   "language": "python",
   "name": "python3"
  },
  "language_info": {
   "codemirror_mode": {
    "name": "ipython",
    "version": 3
   },
   "file_extension": ".py",
   "mimetype": "text/x-python",
   "name": "python",
   "nbconvert_exporter": "python",
   "pygments_lexer": "ipython3",
   "version": "3.7.6"
  }
 },
 "nbformat": 4,
 "nbformat_minor": 2
}
