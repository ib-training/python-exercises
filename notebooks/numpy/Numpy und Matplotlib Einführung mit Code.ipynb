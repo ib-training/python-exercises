{
 "cells": [
  {
   "cell_type": "markdown",
   "metadata": {},
   "source": [
    "## NumPy\n",
    "\n",
    "ist eine Bibliothek, die Unterstützung für das Arbeiten mit großen, multidimensionalen Arrays und Matrizen bietet, zusammen mit einer großen Zahl mathematischer Funktionen, die auf solchen Arrays arbeiten.\n",
    "\n",
    "Anders als Listen sind die Numpy-Arrays homogen (d.h. alle Werte in einem Numpy-Array haben den selben Typ) und haben eine feste Größe (d.h. Veränderungen der Größe führen zu Kopieraktionen und sind langsamer). \n",
    "\n",
    "Die wesentlichen Operationen auf Numpy-Arrays werden durch C-Routinen durchgeführt, daher ist Numpy _schnell_.\n",
    "\n",
    "Um NumPy zu nutzen, muss es importiert werden (die Einführung des Alias `np` ist dabei Konvention, um weniger tippen zu müssen):\n"
   ]
  },
  {
   "cell_type": "code",
   "execution_count": 1,
   "metadata": {},
   "outputs": [],
   "source": [
    "import numpy as np "
   ]
  },
  {
   "cell_type": "markdown",
   "metadata": {},
   "source": [
    "Zentrale Datenstruktur ist das `ndarray`, welches ein Array fester Größe bestehend aus Elementen des selben Typs darstellt. NumPy-Arrays sind also im Gegensatz zu Python-Listen homogene Datenstrukturen.\n",
    "\n",
    "Erzeugung eines eindimensionalen Arrays:"
   ]
  },
  {
   "cell_type": "code",
   "execution_count": 2,
   "metadata": {},
   "outputs": [],
   "source": [
    "a = np.array([1, 2, 3, 4])\n"
   ]
  },
  {
   "cell_type": "markdown",
   "metadata": {},
   "source": [
    "Einige elementere Eigenschaften:"
   ]
  },
  {
   "cell_type": "code",
   "execution_count": 3,
   "metadata": {},
   "outputs": [
    {
     "name": "stdout",
     "output_type": "stream",
     "text": [
      "[1 2 3 4]\n",
      "<class 'numpy.ndarray'>\n",
      "<class 'numpy.int64'>\n",
      "<class 'numpy.int64'>\n",
      "int64\n"
     ]
    }
   ],
   "source": [
    "print(a)\n",
    "print(type(a))\n",
    "print(type(a[0]))\n",
    "print(type(a[1]))\n",
    "print(a.dtype)"
   ]
  },
  {
   "cell_type": "markdown",
   "metadata": {},
   "source": [
    "Tatsächlich erzeugen wir hier erst eine Python-Liste und daraus dann ein Numpy-Array - nicht sehr effizient, aber dies wird meist nur bei kleinen Datenmengen gemacht. Größere Arrays entstehen durch Laden von Daten oder durch Berechnungen."
   ]
  },
  {
   "cell_type": "markdown",
   "metadata": {},
   "source": [
    "## Matplotlib"
   ]
  },
  {
   "cell_type": "markdown",
   "metadata": {},
   "source": [
    "`Matplotlib` ist eine Standardlibrary zum Erstellen verschiedener Plots in Python - wir werden von dieser Library verschiedene Funktionen aufrufen, um unsere Daten zu visualisieren. Der Import (die Einführung des Alias `plt` ist dabei Konvention):"
   ]
  },
  {
   "cell_type": "code",
   "execution_count": 4,
   "metadata": {},
   "outputs": [],
   "source": [
    "# diese Zeile benötigt man je nach jupyter-Einstellung \n",
    "# - sie bewirkt, dass die Plots direkt im Notebook angezeigt werden.\n",
    "%matplotlib inline\n",
    "\n",
    "import matplotlib.pyplot as plt"
   ]
  },
  {
   "cell_type": "code",
   "execution_count": 5,
   "metadata": {},
   "outputs": [
    {
     "data": {
      "text/plain": [
       "[<matplotlib.lines.Line2D at 0x11b2c4240>]"
      ]
     },
     "execution_count": 5,
     "metadata": {},
     "output_type": "execute_result"
    },
    {
     "data": {
      "image/png": "[encoded data removed]",
      "text/plain": [
       "<Figure size 432x288 with 1 Axes>"
      ]
     },
     "metadata": {
      "needs_background": "light"
     },
     "output_type": "display_data"
    }
   ],
   "source": [
    "# einfache Linien- oder Punktplots mit plt.plot:\n",
    "X = np.array([1, 2, 3, 4])\n",
    "Y = np.array([3, 2, 6, 4])\n",
    "plt.plot(X, Y)\n",
    "#plt.plot(X, Y, '.')\n"
   ]
  },
  {
   "cell_type": "code",
   "execution_count": 6,
   "metadata": {},
   "outputs": [
    {
     "data": {
      "image/png": "[encoded data removed]",
      "text/plain": [
       "<Figure size 360x216 with 1 Axes>"
      ]
     },
     "metadata": {
      "needs_background": "light"
     },
     "output_type": "display_data"
    }
   ],
   "source": [
    "# Matplotlib hat sehr viele Features!\n",
    "plt.figure(figsize=(5,3))\n",
    "plt.plot(X,Y, '-', label=\"test\", linestyle=\"--\")\n",
    "plt.title(\"My plot\")\n",
    "plt.xlim((0,5))\n",
    "plt.ylim((0,10))\n",
    "plt.legend()\n",
    "plt.xlabel(\"t\")\n",
    "plt.ylabel(\"$V_m$\")\n",
    "plt.text(3,6.5, \"Peak!\", ha=\"center\", fontsize = 12)\n",
    "plt.axhline(y=6, color='r', linestyle='-')\n",
    "plt.axvline(x=3, color='g', linestyle=':')\n",
    "plt.xticks(np.arange(0, 5, step=0.5))\n",
    "None"
   ]
  },
  {
   "cell_type": "markdown",
   "metadata": {},
   "source": [
    "## Dimensionen und Shape\n",
    "\n",
    "Jedes Array hat bestimmte Dimensionen - die Anzahl der Dimensionen können wir mit `ndim` und die konkreten Größen jeder Dimension mit `shape` erfahren:\n"
   ]
  },
  {
   "cell_type": "code",
   "execution_count": 7,
   "metadata": {},
   "outputs": [
    {
     "data": {
      "text/plain": [
       "array([1, 2, 3, 4])"
      ]
     },
     "execution_count": 7,
     "metadata": {},
     "output_type": "execute_result"
    }
   ],
   "source": [
    "a = np.array([1, 2, 3, 4])\n",
    "a"
   ]
  },
  {
   "cell_type": "code",
   "execution_count": 8,
   "metadata": {},
   "outputs": [
    {
     "data": {
      "text/plain": [
       "1"
      ]
     },
     "execution_count": 8,
     "metadata": {},
     "output_type": "execute_result"
    }
   ],
   "source": [
    "a.ndim"
   ]
  },
  {
   "cell_type": "code",
   "execution_count": 9,
   "metadata": {},
   "outputs": [
    {
     "data": {
      "text/plain": [
       "(4,)"
      ]
     },
     "execution_count": 9,
     "metadata": {},
     "output_type": "execute_result"
    }
   ],
   "source": [
    "a.shape"
   ]
  },
  {
   "cell_type": "markdown",
   "metadata": {},
   "source": [
    "Betrachten wir eine Matrix (2 Dimensionen)"
   ]
  },
  {
   "cell_type": "code",
   "execution_count": 10,
   "metadata": {},
   "outputs": [
    {
     "name": "stdout",
     "output_type": "stream",
     "text": [
      "[[1 2 3]\n",
      " [4 5 6]]\n",
      "2\n",
      "(2, 3)\n",
      "2\n"
     ]
    }
   ],
   "source": [
    "a = np.array([[1, 2, 3], [4, 5, 6]])\n",
    "print(a)\n",
    "print(a.ndim)\n",
    "print(a.shape)\n",
    "print(len(a))"
   ]
  },
  {
   "cell_type": "markdown",
   "metadata": {},
   "source": [
    "Numpy unterstützt dabei nicht nur Vektoren und Matrizen, sondern Tensoren beliebiger Dimensionalität, hier ein Beispiel mit 3 Dimensionen:"
   ]
  },
  {
   "cell_type": "code",
   "execution_count": 11,
   "metadata": {},
   "outputs": [
    {
     "name": "stdout",
     "output_type": "stream",
     "text": [
      "[[[1 2]\n",
      "  [3 4]]\n",
      "\n",
      " [[5 6]\n",
      "  [7 8]]]\n",
      "3\n",
      "(2, 2, 2)\n",
      "2\n"
     ]
    }
   ],
   "source": [
    "a = np.array(\n",
    "    [\n",
    "        [[1, 2], [3, 4]],\n",
    "        [[5, 6], [7, 8]]\n",
    "    ]\n",
    ")\n",
    "\n",
    "print(a)\n",
    "print(a.ndim)\n",
    "print(a.shape)\n",
    "print(len(a))"
   ]
  },
  {
   "cell_type": "markdown",
   "metadata": {},
   "source": [
    "## Erzeugung von Arrays\n",
    "\n",
    "Neben der direkten Konstruktion duch Angabe von Werten gibt es eine Reihe von weiteren Möglichkeiten, Numpy-Arrays zu erzeugen:"
   ]
  },
  {
   "cell_type": "code",
   "execution_count": 12,
   "metadata": {},
   "outputs": [
    {
     "data": {
      "text/plain": [
       "array([[0., 0., 0., 0., 0.],\n",
       "       [0., 0., 0., 0., 0.],\n",
       "       [0., 0., 0., 0., 0.],\n",
       "       [0., 0., 0., 0., 0.],\n",
       "       [0., 0., 0., 0., 0.]])"
      ]
     },
     "execution_count": 12,
     "metadata": {},
     "output_type": "execute_result"
    }
   ],
   "source": [
    "# Matrix mit Nullen erzeugen\n",
    "np.zeros((5,5))   "
   ]
  },
  {
   "cell_type": "code",
   "execution_count": 13,
   "metadata": {},
   "outputs": [
    {
     "data": {
      "text/plain": [
       "array([[1., 1.],\n",
       "       [1., 1.]])"
      ]
     },
     "execution_count": 13,
     "metadata": {},
     "output_type": "execute_result"
    }
   ],
   "source": [
    "# Matrix mit Einsen\n",
    "np.ones((2,2))    "
   ]
  },
  {
   "cell_type": "code",
   "execution_count": 14,
   "metadata": {},
   "outputs": [
    {
     "data": {
      "text/plain": [
       "array([[10, 10, 10],\n",
       "       [10, 10, 10],\n",
       "       [10, 10, 10],\n",
       "       [10, 10, 10],\n",
       "       [10, 10, 10]])"
      ]
     },
     "execution_count": 14,
     "metadata": {},
     "output_type": "execute_result"
    }
   ],
   "source": [
    "# Matrix mit vordefiniertem Wert\n",
    "np.full((5,3), 10)  "
   ]
  },
  {
   "cell_type": "code",
   "execution_count": 15,
   "metadata": {},
   "outputs": [
    {
     "data": {
      "text/plain": [
       "array([[1., 0., 0., 0.],\n",
       "       [0., 1., 0., 0.],\n",
       "       [0., 0., 1., 0.],\n",
       "       [0., 0., 0., 1.]])"
      ]
     },
     "execution_count": 15,
     "metadata": {},
     "output_type": "execute_result"
    }
   ],
   "source": [
    "# Einheitsmatrix\n",
    "np.eye(4, 4)"
   ]
  },
  {
   "cell_type": "code",
   "execution_count": 16,
   "metadata": {},
   "outputs": [
    {
     "data": {
      "text/plain": [
       "array([[0.03923868, 0.00178925, 0.76016039],\n",
       "       [0.38663531, 0.96947347, 0.39142264],\n",
       "       [0.42817606, 0.02033361, 0.68959908]])"
      ]
     },
     "execution_count": 16,
     "metadata": {},
     "output_type": "execute_result"
    }
   ],
   "source": [
    "# Matrix mit Zufallswerten 0 <= v < 1\n",
    "np.random.random((3,3)) "
   ]
  },
  {
   "cell_type": "code",
   "execution_count": 17,
   "metadata": {},
   "outputs": [
    {
     "data": {
      "text/plain": [
       "array([ 1,  2,  3,  4,  5,  6,  7,  8,  9, 10])"
      ]
     },
     "execution_count": 17,
     "metadata": {},
     "output_type": "execute_result"
    }
   ],
   "source": [
    "# Zahlenfolgen\n",
    "np.arange(1, 11)"
   ]
  },
  {
   "cell_type": "code",
   "execution_count": 18,
   "metadata": {},
   "outputs": [
    {
     "data": {
      "text/plain": [
       "array([ 1,  3,  5,  7,  9, 11, 13, 15, 17, 19])"
      ]
     },
     "execution_count": 18,
     "metadata": {},
     "output_type": "execute_result"
    }
   ],
   "source": [
    "np.arange(1,20,2)"
   ]
  },
  {
   "cell_type": "code",
   "execution_count": 19,
   "metadata": {},
   "outputs": [
    {
     "data": {
      "text/plain": [
       "array([0. , 0.1, 0.2, 0.3, 0.4, 0.5, 0.6, 0.7, 0.8, 0.9, 1. ])"
      ]
     },
     "execution_count": 19,
     "metadata": {},
     "output_type": "execute_result"
    }
   ],
   "source": [
    "# Gleichmässig verteilte Zahlen in einem Bereich (hier: 11 Zahlen, von 0 bis 1)\n",
    "np.linspace(0, 1, 11)"
   ]
  },
  {
   "cell_type": "code",
   "execution_count": 20,
   "metadata": {},
   "outputs": [
    {
     "data": {
      "text/plain": [
       "array([0.        , 0.11111111, 0.22222222, 0.33333333, 0.44444444,\n",
       "       0.55555556, 0.66666667, 0.77777778, 0.88888889, 1.        ])"
      ]
     },
     "execution_count": 20,
     "metadata": {},
     "output_type": "execute_result"
    }
   ],
   "source": [
    "# Gleichmässig verteilte Zahlen in einem Bereich (hier: 10 Zahlen, von 0 bis 1)\n",
    "np.linspace(0, 1, 10)"
   ]
  },
  {
   "cell_type": "code",
   "execution_count": 21,
   "metadata": {},
   "outputs": [
    {
     "data": {
      "text/plain": [
       "array([[[0, 0, 0],\n",
       "        [1, 1, 1],\n",
       "        [2, 2, 2]],\n",
       "\n",
       "       [[0, 1, 2],\n",
       "        [0, 1, 2],\n",
       "        [0, 1, 2]]])"
      ]
     },
     "execution_count": 21,
     "metadata": {},
     "output_type": "execute_result"
    }
   ],
   "source": [
    "np.indices((3,3))"
   ]
  },
  {
   "cell_type": "markdown",
   "metadata": {},
   "source": [
    "## Funktionen und Methoden in Numpy"
   ]
  },
  {
   "cell_type": "markdown",
   "metadata": {},
   "source": [
    "Die vielen Features von Numpy lassen sich in zwei Gruppen einteilen - Gruppe 1: Funktionen, die über das Modul aufgerufen werden.\n",
    "\n",
    "Diese werden in der Numpy-Dokumentation _Routines_ genannt: \n",
    "\n",
    "https://docs.scipy.org/doc/numpy/reference/routines.html (sehr viele)\n",
    "\n",
    "https://docs.scipy.org/doc/numpy/reference/routines.math.html (mathematische Funktionen)"
   ]
  },
  {
   "cell_type": "code",
   "execution_count": 22,
   "metadata": {},
   "outputs": [
    {
     "name": "stdout",
     "output_type": "stream",
     "text": [
      "1\n",
      "5\n",
      "15\n",
      "3.0\n",
      "1.4142135623730951\n",
      "2.0\n"
     ]
    }
   ],
   "source": [
    "a = np.array([1, 2, 3, 4, 5])\n",
    "print(np.min(a))\n",
    "print(np.max(a))\n",
    "print(np.sum(a))\n",
    "print(np.mean(a))\n",
    "print(np.std(a))\n",
    "print(np.var(a))"
   ]
  },
  {
   "cell_type": "markdown",
   "metadata": {},
   "source": [
    "Gruppe 2: Methoden, die auf einem Array aufgerufen werden (https://docs.scipy.org/doc/numpy/reference/generated/numpy.ndarray.html)"
   ]
  },
  {
   "cell_type": "code",
   "execution_count": 23,
   "metadata": {},
   "outputs": [
    {
     "name": "stdout",
     "output_type": "stream",
     "text": [
      "1\n",
      "5\n",
      "15\n",
      "3.0\n",
      "1.4142135623730951\n",
      "2.0\n",
      "int64\n"
     ]
    }
   ],
   "source": [
    "print(a.min())\n",
    "print(a.max())\n",
    "print(a.sum())\n",
    "print(a.mean())\n",
    "print(a.std())\n",
    "print(a.var())\n",
    "print(a.dtype)"
   ]
  },
  {
   "cell_type": "markdown",
   "metadata": {},
   "source": [
    "Viele Fähigkeiten stehen sowohl als Funktion als auch als Methode zur Verfügung, und es ist eine Frage des GEschmacks, welche man benutzt - manche Funktionen verhalten sich allerdings auch unterschiedlich zu den gleichnamigen Methoden, Beispiel `sort`:"
   ]
  },
  {
   "cell_type": "code",
   "execution_count": 24,
   "metadata": {},
   "outputs": [
    {
     "name": "stdout",
     "output_type": "stream",
     "text": [
      "[5 2 3 7 1] [1 2 3 5 7]\n"
     ]
    }
   ],
   "source": [
    "a = np.array([5,2,3,7,1])\n",
    "b = np.sort(a)  # erzeugt ein neues sortiertes Array\n",
    "print(a, b)"
   ]
  },
  {
   "cell_type": "code",
   "execution_count": 25,
   "metadata": {},
   "outputs": [
    {
     "data": {
      "text/plain": [
       "array([1, 2, 3, 5, 7])"
      ]
     },
     "execution_count": 25,
     "metadata": {},
     "output_type": "execute_result"
    }
   ],
   "source": [
    "a.sort() # sortiert inplace\n",
    "a"
   ]
  },
  {
   "cell_type": "markdown",
   "metadata": {},
   "source": [
    "Viele Funktionen können auch mit Dimension konfiguriert werden:"
   ]
  },
  {
   "cell_type": "code",
   "execution_count": 26,
   "metadata": {},
   "outputs": [
    {
     "data": {
      "text/plain": [
       "array([2.5, 6.5])"
      ]
     },
     "execution_count": 26,
     "metadata": {},
     "output_type": "execute_result"
    }
   ],
   "source": [
    "a = np.array(\n",
    "    [\n",
    "        [[1, 2], [3, 4]],\n",
    "        [[5, 6], [7, 8]]\n",
    "    ]\n",
    ")\n",
    "\n",
    "# np.sum(a, axis=0)\n",
    "# np.sum(a, axis=1)\n",
    "# np.sum(a, axis=2)\n",
    "# np.sum(a, axis=(1,2))\n",
    "# np.sum(a)\n",
    "\n",
    "np.mean(a, axis=(1,2))"
   ]
  },
  {
   "cell_type": "markdown",
   "metadata": {},
   "source": [
    "## Indizierung\n",
    "\n",
    "Wir können auf Elemente ähnlich wie bei Python-Listen zugreifen, und die Arrays können _inplace_ geändert werden. Auch in Numpy wird ab 0 indiziert, was für Umsteiger von Matlab eine gewisse Umgewöhnung erfordert."
   ]
  },
  {
   "cell_type": "code",
   "execution_count": 27,
   "metadata": {},
   "outputs": [
    {
     "name": "stdout",
     "output_type": "stream",
     "text": [
      "1\n",
      "2\n",
      "3\n",
      "[10  2  3]\n"
     ]
    }
   ],
   "source": [
    "a = np.array([1, 2, 3])\n",
    "\n",
    "print(a[0])\n",
    "print(a[1])\n",
    "print(a[2])\n",
    "\n",
    "a[0] = 10\n",
    "print(a)"
   ]
  },
  {
   "cell_type": "markdown",
   "metadata": {},
   "source": [
    "Bei mehreren Dimensionen müssen wir mit Mehrfachindizierung arbeiten:"
   ]
  },
  {
   "cell_type": "code",
   "execution_count": 28,
   "metadata": {},
   "outputs": [
    {
     "data": {
      "text/plain": [
       "(1, 1)"
      ]
     },
     "execution_count": 28,
     "metadata": {},
     "output_type": "execute_result"
    }
   ],
   "source": [
    "a = np.array([[1, 2], [3, 4]])\n",
    "\n",
    "a[0, 0], a[0][0]"
   ]
  },
  {
   "cell_type": "markdown",
   "metadata": {},
   "source": [
    "Wir können uns auch eine Zeile als einzelnes Array holen - Vorsicht, dies liefert eine View, d.h. Änderungen an der Zeile ändern auch die Ursprungsmatrix:"
   ]
  },
  {
   "cell_type": "code",
   "execution_count": 29,
   "metadata": {},
   "outputs": [
    {
     "name": "stdout",
     "output_type": "stream",
     "text": [
      "[1 2]\n",
      "[1 2]\n"
     ]
    }
   ],
   "source": [
    "a = np.array([[1, 2], [3, 4]])\n",
    "print(a[0])\n",
    "print(a[0, :])"
   ]
  },
  {
   "cell_type": "code",
   "execution_count": 30,
   "metadata": {},
   "outputs": [
    {
     "data": {
      "text/plain": [
       "array([3, 4])"
      ]
     },
     "execution_count": 30,
     "metadata": {},
     "output_type": "execute_result"
    }
   ],
   "source": [
    "a[1]"
   ]
  },
  {
   "cell_type": "code",
   "execution_count": 31,
   "metadata": {},
   "outputs": [
    {
     "data": {
      "text/plain": [
       "array([[10,  2],\n",
       "       [ 3,  4]])"
      ]
     },
     "execution_count": 31,
     "metadata": {},
     "output_type": "execute_result"
    }
   ],
   "source": [
    "row1 = a[0]   # Zeile 1 in separater Variablen\n",
    "row1[0] = 10  # Wir verändern Zeile 1\n",
    "\n",
    "a # die Originalmatrix wurde geändert"
   ]
  },
  {
   "cell_type": "markdown",
   "metadata": {},
   "source": [
    "Der Doppelpunkt kann verwendet werden, er bedeutet: \"Alle Indizes dieser Dimension\":"
   ]
  },
  {
   "cell_type": "code",
   "execution_count": 32,
   "metadata": {},
   "outputs": [
    {
     "name": "stdout",
     "output_type": "stream",
     "text": [
      "Erste Zeile [10  2]\n",
      "Erste Spalte [10  3]\n",
      "Zweite Spalte [2 4]\n"
     ]
    }
   ],
   "source": [
    "print(\"Erste Zeile\", a[0, :])   \n",
    "print(\"Erste Spalte\", a[:, 0])  \n",
    "print(\"Zweite Spalte\", a[:, 1])  "
   ]
  },
  {
   "cell_type": "markdown",
   "metadata": {},
   "source": [
    "Auch das Slicing (siehe Python-Listen) kann genutzt werden:"
   ]
  },
  {
   "cell_type": "code",
   "execution_count": 33,
   "metadata": {},
   "outputs": [
    {
     "data": {
      "text/plain": [
       "array([[ 1,  2,  3,  4],\n",
       "       [ 5,  6,  7,  8],\n",
       "       [ 9, 10, 11, 12]])"
      ]
     },
     "execution_count": 33,
     "metadata": {},
     "output_type": "execute_result"
    }
   ],
   "source": [
    "b = np.array([[1, 2, 3, 4], [5, 6, 7, 8], [9, 10, 11, 12]])\n",
    "b"
   ]
  },
  {
   "cell_type": "code",
   "execution_count": 34,
   "metadata": {},
   "outputs": [
    {
     "data": {
      "text/plain": [
       "array([[ 6,  7,  8],\n",
       "       [10, 11, 12]])"
      ]
     },
     "execution_count": 34,
     "metadata": {},
     "output_type": "execute_result"
    }
   ],
   "source": [
    "b[1:3, 1:4]"
   ]
  },
  {
   "cell_type": "code",
   "execution_count": 35,
   "metadata": {},
   "outputs": [
    {
     "data": {
      "text/plain": [
       "array([[ 1,  2,  3,  4],\n",
       "       [ 5, 42, 42, 42],\n",
       "       [ 9, 42, 42, 42]])"
      ]
     },
     "execution_count": 35,
     "metadata": {},
     "output_type": "execute_result"
    }
   ],
   "source": [
    "# Änderung aller Elemente in der Teilmatrix\n",
    "b[1:3, 1:4] = 42\n",
    "b"
   ]
  },
  {
   "cell_type": "markdown",
   "metadata": {},
   "source": [
    "## Frage\n",
    "\n",
    "Was ist der Unterschied zwischen den folgenden beiden Zugriffen auf das Array `b`?"
   ]
  },
  {
   "cell_type": "code",
   "execution_count": 36,
   "metadata": {},
   "outputs": [
    {
     "name": "stdout",
     "output_type": "stream",
     "text": [
      "(1, 3)\n",
      "(3,)\n"
     ]
    }
   ],
   "source": [
    "b = np.array([[1, 2, 3, 4], [5, 6, 7, 8], [9, 10, 11, 12]])\n",
    "\n",
    "print(b[1:2, 1:4].shape)\n",
    "print(b[1, 1:4].shape)"
   ]
  },
  {
   "cell_type": "markdown",
   "metadata": {},
   "source": [
    "## Reshaping\n",
    "\n",
    "Häufig muss eine Matrix in eine bestimmte Form gebracht werden - dazu gibt es verschiedene Wege, wie die Form (`shape`) verändert werden kann. Erste Möglichkeit ist das Setzen der Shape-Eigenschaft:\n",
    "\n"
   ]
  },
  {
   "cell_type": "code",
   "execution_count": 37,
   "metadata": {},
   "outputs": [
    {
     "data": {
      "text/plain": [
       "array([ 0,  1,  2,  3,  4,  5,  6,  7,  8,  9, 10, 11])"
      ]
     },
     "execution_count": 37,
     "metadata": {},
     "output_type": "execute_result"
    }
   ],
   "source": [
    "a = np.arange(0,12)\n",
    "a"
   ]
  },
  {
   "cell_type": "code",
   "execution_count": 38,
   "metadata": {},
   "outputs": [
    {
     "data": {
      "text/plain": [
       "array([[ 0,  1,  2,  3],\n",
       "       [ 4,  5,  6,  7],\n",
       "       [ 8,  9, 10, 11]])"
      ]
     },
     "execution_count": 38,
     "metadata": {},
     "output_type": "execute_result"
    }
   ],
   "source": [
    "a.shape = (3, 4)\n",
    "a"
   ]
  },
  {
   "cell_type": "code",
   "execution_count": 39,
   "metadata": {},
   "outputs": [
    {
     "data": {
      "text/plain": [
       "array([[ 0,  1,  2,  3,  4,  5],\n",
       "       [ 6,  7,  8,  9, 10, 11]])"
      ]
     },
     "execution_count": 39,
     "metadata": {},
     "output_type": "execute_result"
    }
   ],
   "source": [
    "a.shape = (2, 6)\n",
    "a"
   ]
  },
  {
   "cell_type": "markdown",
   "metadata": {},
   "source": [
    "Die Funktion `reshape` hingegen erzeugt eine neue View auf die Daten - diese Funktion kann dabei sowohl als NumPy-Funktion als auch als Methode auf einem Array aufgerufen werden:"
   ]
  },
  {
   "cell_type": "code",
   "execution_count": 40,
   "metadata": {},
   "outputs": [
    {
     "data": {
      "text/plain": [
       "array([ 0,  1,  2,  3,  4,  5,  6,  7,  8,  9, 10, 11])"
      ]
     },
     "execution_count": 40,
     "metadata": {},
     "output_type": "execute_result"
    }
   ],
   "source": [
    "np.reshape(a, (12,))"
   ]
  },
  {
   "cell_type": "code",
   "execution_count": 41,
   "metadata": {},
   "outputs": [
    {
     "data": {
      "text/plain": [
       "array([[ 0,  1],\n",
       "       [ 2,  3],\n",
       "       [ 4,  5],\n",
       "       [ 6,  7],\n",
       "       [ 8,  9],\n",
       "       [10, 11]])"
      ]
     },
     "execution_count": 41,
     "metadata": {},
     "output_type": "execute_result"
    }
   ],
   "source": [
    "np.reshape(a, (6,2))"
   ]
  },
  {
   "cell_type": "code",
   "execution_count": 42,
   "metadata": {},
   "outputs": [
    {
     "data": {
      "text/plain": [
       "array([[ 0,  1,  2,  3],\n",
       "       [ 4,  5,  6,  7],\n",
       "       [ 8,  9, 10, 11]])"
      ]
     },
     "execution_count": 42,
     "metadata": {},
     "output_type": "execute_result"
    }
   ],
   "source": [
    "a.reshape(3,4)"
   ]
  },
  {
   "cell_type": "markdown",
   "metadata": {},
   "source": [
    "Eine der Dimensionsparameter bei Reshape darf -1 sein (dies bedeutet \"die übrigen Elemente\"):"
   ]
  },
  {
   "cell_type": "code",
   "execution_count": 43,
   "metadata": {},
   "outputs": [
    {
     "data": {
      "text/plain": [
       "array([[1, 2, 3],\n",
       "       [4, 5, 6]])"
      ]
     },
     "execution_count": 43,
     "metadata": {},
     "output_type": "execute_result"
    }
   ],
   "source": [
    "np.array([1,2,3,4,5,6]).reshape(-1, 3)"
   ]
  },
  {
   "cell_type": "markdown",
   "metadata": {},
   "source": [
    "## Fancy indexing\n",
    "\n",
    "Wenn wir ein Array mit Indizies haben, können wir dieses Array nutzen, um damit Werte aus einem anderen Array zu adressieren:"
   ]
  },
  {
   "cell_type": "code",
   "execution_count": 44,
   "metadata": {},
   "outputs": [
    {
     "data": {
      "text/plain": [
       "array([ 1,  2,  3,  4,  5,  6,  7,  8,  9, 10])"
      ]
     },
     "execution_count": 44,
     "metadata": {},
     "output_type": "execute_result"
    }
   ],
   "source": [
    "a = np.arange(10) +1\n",
    "a"
   ]
  },
  {
   "cell_type": "code",
   "execution_count": 45,
   "metadata": {},
   "outputs": [
    {
     "data": {
      "text/plain": [
       "array([ 3,  6, 10])"
      ]
     },
     "execution_count": 45,
     "metadata": {},
     "output_type": "execute_result"
    }
   ],
   "source": [
    "indices = np.array([2, 5, 9])\n",
    "a[indices]"
   ]
  },
  {
   "cell_type": "markdown",
   "metadata": {},
   "source": [
    "Wenn man mit mehrdimensionalen Arrays arbeitet, dann hat das Ergebnis die Form des Index-Arrays, und damit sind interessante Operationen möglich - hier ein Beispiel aus der Python-Dokumentation:"
   ]
  },
  {
   "cell_type": "code",
   "execution_count": 46,
   "metadata": {
    "scrolled": true
   },
   "outputs": [
    {
     "data": {
      "text/plain": [
       "array([[[  0,   0,   0],\n",
       "        [255,   0,   0],\n",
       "        [  0, 255,   0],\n",
       "        [  0,   0,   0]],\n",
       "\n",
       "       [[  0,   0,   0],\n",
       "        [  0,   0, 255],\n",
       "        [255, 255, 255],\n",
       "        [  0,   0,   0]]])"
      ]
     },
     "execution_count": 46,
     "metadata": {},
     "output_type": "execute_result"
    }
   ],
   "source": [
    "palette = np.array([\n",
    "    [  0,   0,   0],    # black\n",
    "    [255,   0,   0],    # red\n",
    "    [  0, 255,   0],    # green\n",
    "    [  0,   0, 255],    # blue\n",
    "    [255, 255, 255]     # white\n",
    "])       \n",
    "\n",
    "image = np.array([ \n",
    "    [ 0, 1, 2, 0 ], # each value corresponds to a color in the palette\n",
    "    [ 0, 3, 4, 0 ]  \n",
    "])\n",
    "\n",
    "palette[image]"
   ]
  },
  {
   "cell_type": "markdown",
   "metadata": {},
   "source": [
    "## Übung\n",
    "\n",
    "Testen Sie die folgenden Befehle - was machen sie?\n",
    "\n",
    "    a = np.array([[1,2,3],[4,5,6]])\n",
    "    a.ravel()    # oder np.ravel(a)\n",
    "    a.flatten()\n",
    "    \n",
    "    a.T\n",
    "    np.transpose(a)\n",
    "    \n",
    "    a.reshape(3,2)\n",
    "\n"
   ]
  },
  {
   "cell_type": "markdown",
   "metadata": {},
   "source": [
    "## Übung\n"
   ]
  },
  {
   "cell_type": "markdown",
   "metadata": {},
   "source": [
    "Übung RGB (siehe separates Notebook)"
   ]
  },
  {
   "cell_type": "markdown",
   "metadata": {},
   "source": [
    "## Vektorisieren von Berechnungen"
   ]
  },
  {
   "cell_type": "markdown",
   "metadata": {},
   "source": [
    "Einer der Hauptgründe, warum Numpy so beliebt ist: Wir können Berechnungen auf vielen Daten vektorisieren - d.h. wir können komplexe Berechnungen auf Daten als Vektoroperationen ausdrücken und so Iteration und Schleifen vermeiden. Dies führt nicht nur zu kurzem und elegantem Code, sondern auch zu einer erheblichen Beschleunigung der Berechnungen, da die Iteration jetzt nicht mehr in Python stattfindet, sondern in stark optimiertem C-Code."
   ]
  },
  {
   "cell_type": "code",
   "execution_count": 47,
   "metadata": {},
   "outputs": [
    {
     "name": "stdout",
     "output_type": "stream",
     "text": [
      "[ 6  7  8  9 10]\n",
      "[-4 -3 -2 -1  0]\n",
      "[ 2  4  6  8 10]\n",
      "[0.1 0.2 0.3 0.4 0.5]\n",
      "[0.06666667 0.13333333 0.2        0.26666667 0.33333333]\n"
     ]
    }
   ],
   "source": [
    "a = np.array([1, 2, 3, 4, 5])\n",
    "\n",
    "# wenn ein Array mit einer Zahl verknüft wird, wird die Berechnung auf allen Elementen des Arrays durchgeführt\n",
    "# man nennt dies Broadcasting\n",
    "print(a+5)\n",
    "print(a-5)\n",
    "print(a*2)\n",
    "print(a/10)\n",
    "print(a/np.sum(a))"
   ]
  },
  {
   "cell_type": "code",
   "execution_count": 48,
   "metadata": {},
   "outputs": [
    {
     "name": "stdout",
     "output_type": "stream",
     "text": [
      "4.2 ms ± 80.4 µs per loop (mean ± std. dev. of 7 runs, 100 loops each)\n",
      "10.8 µs ± 29.4 ns per loop (mean ± std. dev. of 7 runs, 100000 loops each)\n"
     ]
    }
   ],
   "source": [
    "# Vergleich Schleifen vs Vektorisierung:\n",
    "\n",
    "# ohne Numpy\n",
    "def test1():\n",
    "    a = np.ones((100,100))\n",
    "    for i in range(100):\n",
    "        for j in range(100):\n",
    "            a[i,j] = a[i,j] * 5 \n",
    "    return a\n",
    "            \n",
    "def test2():\n",
    "    return np.ones((100,100)) * 5\n",
    "    \n",
    "%timeit test1()\n",
    "%timeit test2()"
   ]
  },
  {
   "cell_type": "markdown",
   "metadata": {},
   "source": [
    "Auch Funktionen können mit vektorisiert genutzt werden:"
   ]
  },
  {
   "cell_type": "code",
   "execution_count": 49,
   "metadata": {},
   "outputs": [],
   "source": [
    "X = np.linspace(0, 2*np.pi, 100)\n",
    "Y_sin = np.sin(X)\n",
    "Y_cos = np.cos(X)\n",
    "\n",
    "X_exp = np.linspace(-5, 5, 100)\n",
    "Y_exp = np.exp(X_exp)\n",
    "\n",
    "X_log = np.linspace(1e-2, 10, 100)\n",
    "Y_log = np.log(X_log)\n",
    "\n",
    "# Ausgabe\n",
    "# (Y_sin, Y_cos, Y_exp, Y_log)\n"
   ]
  },
  {
   "cell_type": "code",
   "execution_count": 50,
   "metadata": {},
   "outputs": [
    {
     "data": {
      "image/png": "[encoded data removed]",
      "text/plain": [
       "<Figure size 432x288 with 4 Axes>"
      ]
     },
     "metadata": {
      "needs_background": "light"
     },
     "output_type": "display_data"
    }
   ],
   "source": [
    "plt.subplot(2,2,1)\n",
    "plt.plot(X, Y_sin)\n",
    "\n",
    "plt.subplot(2,2,2)\n",
    "plt.plot(X, Y_cos)\n",
    "\n",
    "plt.subplot(2,2,3)\n",
    "plt.plot(X_exp, Y_exp)\n",
    "\n",
    "plt.subplot(2,2,4)\n",
    "plt.plot(X_log, Y_log);"
   ]
  },
  {
   "cell_type": "markdown",
   "metadata": {},
   "source": [
    "## Übung\n",
    "\n",
    "Die logistische Funktion ist gegeben als:\n",
    "\n",
    "$$ S(x) = \\frac{1}{1 + e^{-x}} $$\n",
    "\n",
    "Implementieren Sie diese Funktion, so dass sie mit Broadcasting funktioniert, und plotten Sie die Funktion im Bereich -5 bis 5."
   ]
  },
  {
   "cell_type": "code",
   "execution_count": 51,
   "metadata": {},
   "outputs": [
    {
     "data": {
      "text/plain": [
       "[<matplotlib.lines.Line2D at 0x11b6ca438>]"
      ]
     },
     "execution_count": 51,
     "metadata": {},
     "output_type": "execute_result"
    },
    {
     "data": {
      "image/png": "[encoded data removed]",
      "text/plain": [
       "<Figure size 432x288 with 1 Axes>"
      ]
     },
     "metadata": {
      "needs_background": "light"
     },
     "output_type": "display_data"
    }
   ],
   "source": [
    "def logistic(x):\n",
    "    return 1 / (1 + np.exp(-x))\n",
    "\n",
    "X = np.linspace(-5, 5, 1000)\n",
    "plt.plot(X, logistic(X))"
   ]
  },
  {
   "cell_type": "markdown",
   "metadata": {},
   "source": [
    "## Beispiel: Funktion mit zwei Variablen plotten"
   ]
  },
  {
   "cell_type": "code",
   "execution_count": 52,
   "metadata": {},
   "outputs": [
    {
     "data": {
      "text/plain": [
       "<mpl_toolkits.mplot3d.art3d.Poly3DCollection at 0x11b731ac8>"
      ]
     },
     "execution_count": 52,
     "metadata": {},
     "output_type": "execute_result"
    },
    {
     "data": {
      "image/png": "[encoded data removed]",
      "text/plain": [
       "<Figure size 432x288 with 1 Axes>"
      ]
     },
     "metadata": {
      "needs_background": "light"
     },
     "output_type": "display_data"
    }
   ],
   "source": [
    "x = np.arange(-5, 5, 0.1)\n",
    "y = np.arange(-5, 5, 0.1)\n",
    "xx, yy = np.meshgrid(x, y)\n",
    "\n",
    "z = xx**2 + yy**2\n",
    "\n",
    "from mpl_toolkits import mplot3d\n",
    "fig = plt.figure()\n",
    "ax = plt.axes(projection='3d')\n",
    "\n",
    "\n",
    "ax.plot_surface(xx, yy, z)"
   ]
  },
  {
   "cell_type": "markdown",
   "metadata": {},
   "source": [
    "## Operationen auf Arrays - Broadcasting"
   ]
  },
  {
   "cell_type": "markdown",
   "metadata": {},
   "source": [
    "Wenn wir Array miteinander verknüpfen, dann werden viele Operationen elementweise ausgeführt:"
   ]
  },
  {
   "cell_type": "code",
   "execution_count": 53,
   "metadata": {},
   "outputs": [
    {
     "name": "stdout",
     "output_type": "stream",
     "text": [
      "[6 6 6 6 6]\n",
      "[5 8 9 8 5]\n"
     ]
    }
   ],
   "source": [
    "a = np.array([1, 2, 3, 4, 5])\n",
    "b = np.array([5, 4, 3, 2, 1])\n",
    "\n",
    "print(a + b)\n",
    "print(a * b)\n"
   ]
  },
  {
   "cell_type": "markdown",
   "metadata": {},
   "source": [
    "## Broadcasting mit mehreren Dimensionen\n",
    "\n",
    "Auch mit mehreren Dimensionen ist Broadcasting möglich - betrachten wir die Regeln dazu an folgendem Beispiel:\n",
    "\n",
    "    a = np.array([\n",
    "        [1, 1, 1],\n",
    "        [1, 1, 1]\n",
    "    ])\n",
    "\n",
    "    b = np.array(\n",
    "        [1, 2, 3]\n",
    "    )\n",
    "    \n",
    "    Dimensionen a -> 2 x 3\n",
    "    Dimensionen b ->     3\n",
    "\n",
    "\n",
    "Wenn die beiden Arrays nicht die selbe Anzahl Dimensionen haben, dann wird die Form des kürzere Arrays mit Dimensionen der Länge 1 aufgefüllt. und zwar auf der linken Seite:\n",
    "\n",
    "    Dimensionen a -> 2 x 3\n",
    "    Dimensionen b -> 1 x 3\n",
    "\n",
    "Wenn die Form in einer Dimension jetzt nicht passt gibt es zwei Möglichkeiten:\n",
    "\n",
    "a) Wenn eine der beiden Dimensionen die Länge 1 hat, dann wird diese durch Wiederholen der Elemente auf die selbe Länge gebracht wie die Länge dieser Dimension im anderen Array\n",
    "\n",
    "    Dimensionen a -> 2 x 3\n",
    "    Dimensionen b -> 2 x 3\n",
    "\n",
    "b) sonst wird ein Fehler ausgegeben\n",
    "\n",
    "https://docs.scipy.org/doc/numpy/user/basics.broadcasting.html"
   ]
  },
  {
   "cell_type": "code",
   "execution_count": 54,
   "metadata": {},
   "outputs": [
    {
     "name": "stdout",
     "output_type": "stream",
     "text": [
      "[[2 3 4]\n",
      " [2 3 4]]\n"
     ]
    }
   ],
   "source": [
    "# Beispiel 1\n",
    "a = np.array([\n",
    "    [1, 1, 1],\n",
    "    [1, 1, 1]\n",
    "])\n",
    "\n",
    "b = np.array(\n",
    "    [1, 2, 3]\n",
    ")\n",
    "\n",
    "print(a+b)"
   ]
  },
  {
   "cell_type": "code",
   "execution_count": 55,
   "metadata": {},
   "outputs": [
    {
     "name": "stdout",
     "output_type": "stream",
     "text": [
      "[[3 3 3]\n",
      " [4 4 4]]\n"
     ]
    }
   ],
   "source": [
    "# Beispiel 2\n",
    "a = np.array([\n",
    "    [1, 1, 1],\n",
    "    [1, 1, 1]\n",
    "])\n",
    "b = np.array(\n",
    "    [\n",
    "        [2], \n",
    "        [3]\n",
    "    ])\n",
    "\n",
    "print(a+b)"
   ]
  },
  {
   "cell_type": "code",
   "execution_count": 56,
   "metadata": {},
   "outputs": [
    {
     "name": "stdout",
     "output_type": "stream",
     "text": [
      "operands could not be broadcast together with shapes (2,3) (2,) \n"
     ]
    }
   ],
   "source": [
    "# Beispiel 3\n",
    "a = np.array([\n",
    "    [1, 1, 1],\n",
    "    [1, 1, 1]\n",
    "])\n",
    "b = np.array(\n",
    "    [2,3]\n",
    ")\n",
    "\n",
    "try:\n",
    "    print(a+b)\n",
    "except ValueError as e:\n",
    "    print(e)"
   ]
  },
  {
   "cell_type": "markdown",
   "metadata": {},
   "source": [
    "## Boolsche Indizierung\n",
    "\n",
    "Was passiert, wenn wir Numpy-Arrays mit Bedingungen verknüpfen?"
   ]
  },
  {
   "cell_type": "code",
   "execution_count": 57,
   "metadata": {},
   "outputs": [
    {
     "data": {
      "text/plain": [
       "array([False, False, False,  True,  True])"
      ]
     },
     "execution_count": 57,
     "metadata": {},
     "output_type": "execute_result"
    }
   ],
   "source": [
    "a = np.array([1, 2, 3, 4, 5])\n",
    "a > 3"
   ]
  },
  {
   "cell_type": "markdown",
   "metadata": {},
   "source": [
    "Wir erhalten eine Array mit boolschen Werten zurück. Auch für solche Array gibt es nützliche Funktionen:"
   ]
  },
  {
   "cell_type": "code",
   "execution_count": 58,
   "metadata": {},
   "outputs": [
    {
     "name": "stdout",
     "output_type": "stream",
     "text": [
      "False\n",
      "True\n",
      "False\n",
      "True\n"
     ]
    }
   ],
   "source": [
    "print(np.all(np.array([False, False, False,  True,  True])))\n",
    "print(np.any(np.array([False, False, False,  True,  True])))\n",
    "\n",
    "\n",
    "print(np.all(a > 3))\n",
    "print(np.any(a > 3))"
   ]
  },
  {
   "cell_type": "markdown",
   "metadata": {},
   "source": [
    "Besonders interessant ist dies als Indizierung - die boolschen Arrays können als Maske dienen, um uns bestimmte Elemente aus einer Matrix auszuwählen:"
   ]
  },
  {
   "cell_type": "code",
   "execution_count": 59,
   "metadata": {},
   "outputs": [
    {
     "data": {
      "text/plain": [
       "array([[0, 0],\n",
       "       [0, 2],\n",
       "       [1, 1]])"
      ]
     },
     "execution_count": 59,
     "metadata": {},
     "output_type": "execute_result"
    }
   ],
   "source": [
    "a = np.array(\n",
    "    [\n",
    "        [1, 0, 1],\n",
    "        [0, 1, 0]\n",
    "    ]\n",
    ")\n",
    "\n",
    "np.argwhere(a > 0)"
   ]
  },
  {
   "cell_type": "code",
   "execution_count": 60,
   "metadata": {},
   "outputs": [
    {
     "data": {
      "text/plain": [
       "array([[3, 3, 3],\n",
       "       [3, 3, 3]])"
      ]
     },
     "execution_count": 60,
     "metadata": {},
     "output_type": "execute_result"
    }
   ],
   "source": [
    "a[a > 3] = 3\n",
    "a[a < 3] = 3\n",
    "a"
   ]
  },
  {
   "cell_type": "markdown",
   "metadata": {},
   "source": [
    "## Verknüpfung von Arrays"
   ]
  },
  {
   "cell_type": "markdown",
   "metadata": {},
   "source": [
    "Es gibt verschiedene Möglichkeiten, Arrays zu verknüpfen:"
   ]
  },
  {
   "cell_type": "code",
   "execution_count": 61,
   "metadata": {},
   "outputs": [],
   "source": [
    "a = np.array([1, 2, 3, 4])\n",
    "b = np.array([5, 6, 7, 8])"
   ]
  },
  {
   "cell_type": "code",
   "execution_count": 62,
   "metadata": {},
   "outputs": [
    {
     "data": {
      "text/plain": [
       "array([[1, 2, 3, 4],\n",
       "       [5, 6, 7, 8]])"
      ]
     },
     "execution_count": 62,
     "metadata": {},
     "output_type": "execute_result"
    }
   ],
   "source": [
    "np.stack([a,b])"
   ]
  },
  {
   "cell_type": "code",
   "execution_count": 63,
   "metadata": {},
   "outputs": [
    {
     "data": {
      "text/plain": [
       "array([1, 2, 3, 4, 5, 6, 7, 8])"
      ]
     },
     "execution_count": 63,
     "metadata": {},
     "output_type": "execute_result"
    }
   ],
   "source": [
    "np.concatenate([a,b])"
   ]
  },
  {
   "cell_type": "code",
   "execution_count": 64,
   "metadata": {},
   "outputs": [
    {
     "name": "stdout",
     "output_type": "stream",
     "text": [
      "[[[1 2]\n",
      "  [3 4]]\n",
      "\n",
      " [[5 6]\n",
      "  [7 8]]]\n",
      "[[1 2 5 6]\n",
      " [3 4 7 8]]\n",
      "[[1 2]\n",
      " [3 4]\n",
      " [5 6]\n",
      " [7 8]]\n"
     ]
    }
   ],
   "source": [
    "c = a.reshape((2,2))\n",
    "d = b.reshape((2,2))\n",
    "\n",
    "print(np.stack([c,d]))\n",
    "print(np.hstack([c,d]))\n",
    "print(np.vstack([c,d]))"
   ]
  },
  {
   "cell_type": "markdown",
   "metadata": {},
   "source": [
    "## Lineare Algebra\n",
    "\n",
    "NumPy bietet natürlich eine Vielzahl von Funktionen rund um die lineare Algebra - ein paar sollen hier beispielhaft vorgestellt werden:\n",
    "\n",
    "https://docs.scipy.org/doc/numpy/reference/routines.linalg.html"
   ]
  },
  {
   "cell_type": "code",
   "execution_count": 65,
   "metadata": {},
   "outputs": [
    {
     "name": "stdout",
     "output_type": "stream",
     "text": [
      "[[1. 2.]\n",
      " [3. 4.]]\n",
      "[[5.]\n",
      " [6.]]\n"
     ]
    }
   ],
   "source": [
    "import numpy.linalg as la\n",
    "A = np.array([[1.0, 2.0], [3.0, 4.0]])  # 2x2 Matrix\n",
    "b = np.array([5.0, 6.0]).reshape((2,1)) # Zeilenvektor\n",
    "print(A)\n",
    "print(b)"
   ]
  },
  {
   "cell_type": "code",
   "execution_count": 66,
   "metadata": {},
   "outputs": [
    {
     "name": "stdout",
     "output_type": "stream",
     "text": [
      "[[17.]\n",
      " [39.]]\n",
      "[[17.]\n",
      " [39.]]\n",
      "[[17.]\n",
      " [39.]]\n",
      "[[17.]\n",
      " [39.]]\n"
     ]
    }
   ],
   "source": [
    "# Matrixmultiplikationen\n",
    "print(np.dot(A, b))\n",
    "print(np.matmul(A, b))\n",
    "print(A.dot(b))\n",
    "print(A @ b)"
   ]
  },
  {
   "cell_type": "code",
   "execution_count": 67,
   "metadata": {},
   "outputs": [
    {
     "data": {
      "text/plain": [
       "7.810249675906654"
      ]
     },
     "execution_count": 67,
     "metadata": {},
     "output_type": "execute_result"
    }
   ],
   "source": [
    "# Länge eines Vektors\n",
    "la.norm(b)"
   ]
  },
  {
   "cell_type": "code",
   "execution_count": 68,
   "metadata": {},
   "outputs": [
    {
     "data": {
      "text/plain": [
       "-2.0000000000000004"
      ]
     },
     "execution_count": 68,
     "metadata": {},
     "output_type": "execute_result"
    }
   ],
   "source": [
    "# Determinante einer Matrix\n",
    "la.det(A)"
   ]
  },
  {
   "cell_type": "code",
   "execution_count": 69,
   "metadata": {},
   "outputs": [
    {
     "data": {
      "text/plain": [
       "array([[-4. ],\n",
       "       [ 4.5]])"
      ]
     },
     "execution_count": 69,
     "metadata": {},
     "output_type": "execute_result"
    }
   ],
   "source": [
    "# Lösen der Gleichung A x = b\n",
    "la.solve(A ,b)"
   ]
  },
  {
   "cell_type": "code",
   "execution_count": 70,
   "metadata": {},
   "outputs": [
    {
     "data": {
      "text/plain": [
       "array([[-4. ],\n",
       "       [ 4.5]])"
      ]
     },
     "execution_count": 70,
     "metadata": {},
     "output_type": "execute_result"
    }
   ],
   "source": [
    "# A**-1 * b\n",
    "la.inv(A).dot(b)"
   ]
  },
  {
   "cell_type": "code",
   "execution_count": 71,
   "metadata": {},
   "outputs": [
    {
     "data": {
      "text/plain": [
       "[<matplotlib.lines.Line2D at 0x129801048>]"
      ]
     },
     "execution_count": 71,
     "metadata": {},
     "output_type": "execute_result"
    },
    {
     "data": {
      "image/png": "[encoded data removed]",
      "text/plain": [
       "<Figure size 432x432 with 3 Axes>"
      ]
     },
     "metadata": {
      "needs_background": "light"
     },
     "output_type": "display_data"
    }
   ],
   "source": [
    "import seaborn as sns\n",
    "import numpy.linalg as la\n",
    "\n",
    "cov = np.array([\n",
    "    [0.47625365, 0.44504225],\n",
    "    [0.44504225, 0.68525804]\n",
    "])\n",
    "\n",
    "X = np.random.multivariate_normal(np.array([0, 0]), cov, 500)\n",
    "\n",
    "# Eigenwerte/Vectoren berechnen\n",
    "[e0, e1], vecs = la.eig(cov)\n",
    "\n",
    "# Vektoren mit Eigenwert skalieren\n",
    "v0 = vecs[:,0] * np.sqrt(e0)\n",
    "v1 = vecs[:,1] * np.sqrt(e1)\n",
    "\n",
    "# seaborn bietet einige schöne Plots\n",
    "g = sns.jointplot(X[:,0], X[:,1])\n",
    "g.ax_joint.plot([0,v0[0]],[0,v0[1]], c='r', linewidth=3.0 )\n",
    "g.ax_joint.plot([0,v1[0]],[0,v1[1]], c='r', linewidth=3.0 )\n"
   ]
  },
  {
   "cell_type": "markdown",
   "metadata": {},
   "source": [
    "## Übung\n",
    "\n",
    "Übung Vektoren und Matrizen (siehe separates Notebook)"
   ]
  }
 ],
 "metadata": {
  "celltoolbar": "Raw Cell Format",
  "kernelspec": {
   "display_name": "Python 3",
   "language": "python",
   "name": "python3"
  },
  "language_info": {
   "codemirror_mode": {
    "name": "ipython",
    "version": 3
   },
   "file_extension": ".py",
   "mimetype": "text/x-python",
   "name": "python",
   "nbconvert_exporter": "python",
   "pygments_lexer": "ipython3",
   "version": "3.7.2"
  }
 },
 "nbformat": 4,
 "nbformat_minor": 2
}
